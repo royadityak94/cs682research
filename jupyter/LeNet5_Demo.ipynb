{
 "cells": [
  {
   "cell_type": "code",
   "execution_count": 1,
   "metadata": {},
   "outputs": [
    {
     "name": "stderr",
     "output_type": "stream",
     "text": [
      "Using TensorFlow backend.\n"
     ]
    }
   ],
   "source": [
    "import tensorflow as tf\n",
    "from tensorflow.keras.models import Sequential\n",
    "from tensorflow.keras.layers import Dense, Dropout, Conv2D, Conv3D, Flatten, MaxPool2D, AveragePooling2D\n",
    "from tensorflow.keras.optimizers import SGD\n",
    "from tensorflow.keras.utils import to_categorical\n",
    "from tensorflow.keras.callbacks import CSVLogger\n",
    "from tensorflow.python.keras import metrics\n",
    "import matplotlib.pyplot as plt\n",
    "from rectified_adam import RAdam\n",
    "import numpy as np\n",
    "import sys\n",
    "from utilities.pythonDB import writeToDB, deleteExistingPrimaryKeyDB\n",
    "%matplotlib inline"
   ]
  },
  {
   "cell_type": "code",
   "execution_count": 2,
   "metadata": {},
   "outputs": [],
   "source": [
    "def get_random_data(data1, data2, low, high, max_samples=100):\n",
    "    _, H1, W1, C1 = data1.shape\n",
    "    _, N = data2.shape\n",
    "    suff_data1 = np.zeros((max_samples, H1, W1, C1))\n",
    "    suff_data2 = np.zeros((max_samples, N))\n",
    "    shuffles = np.random.randint(low, high+1, max_samples)\n",
    "    for idx in range(shuffles.shape[0]):\n",
    "        suff_data1[idx] = data1[idx, :, :, :]\n",
    "        suff_data2[idx] = data2[idx, :]\n",
    "    return suff_data1, suff_data2"
   ]
  },
  {
   "cell_type": "code",
   "execution_count": 6,
   "metadata": {},
   "outputs": [],
   "source": [
    "MAX_TRAINING = 25000\n",
    "MAX_VALIDATION = 5000\n",
    "MAX_TESTING = 4000\n",
    "correct_class = {1 : 'airplane', 2 : 'automobile', 3 : 'bird', 4 : 'cat', 5 : \\\n",
    "                 'deer', 6 : 'dog', 7 : 'frog', 8 : 'horse', 9 : 'ship', 10 : 'truck'}"
   ]
  },
  {
   "cell_type": "code",
   "execution_count": 12,
   "metadata": {},
   "outputs": [
    {
     "name": "stdout",
     "output_type": "stream",
     "text": [
      "Number of Training Samples: X=25000, Y=25000\n",
      "Number of Validation Samples: X=5000, Y=5000\n",
      "Number of Test Samples: X=4000, Y=4000\n"
     ]
    }
   ],
   "source": [
    "#Loading CIFAR-10 dataset\n",
    "cifar = tf.keras.datasets.cifar10 \n",
    "(x_train, y_train), (x_test, y_test) = cifar.load_data()\n",
    "\n",
    "# Keeping the data between 0 and 1\n",
    "x_train_max, x_test_max = x_train / 255.0, x_test / 255.0\n",
    "y_train_max = to_categorical(y_train, num_classes=10)\n",
    "y_test_max = to_categorical(y_test, num_classes=10)\n",
    "\n",
    "train_cutoff = int(x_train_max.shape[0] - MAX_VALIDATION*1.5)\n",
    "\n",
    "x_train, y_train = get_random_data(x_train_max, y_train_max, 0, train_cutoff, MAX_TRAINING)\n",
    "x_val, y_val = get_random_data(x_train_max, y_train_max, train_cutoff+1, x_train_max.shape[0], MAX_VALIDATION)\n",
    "x_test, y_test = get_random_data(x_test_max, y_test_max, 0, x_test_max.shape[0], MAX_TESTING)\n",
    "\n",
    "print (\"Number of Training Samples: X={}, Y={}\".format(x_train.shape[0], y_train.shape[0]))\n",
    "print (\"Number of Validation Samples: X={}, Y={}\".format(x_val.shape[0], y_val.shape[0]))\n",
    "print (\"Number of Test Samples: X={}, Y={}\".format(x_test.shape[0], y_test.shape[0]))"
   ]
  },
  {
   "cell_type": "code",
   "execution_count": 5,
   "metadata": {
    "collapsed": true
   },
   "outputs": [],
   "source": [
    "class MetricsAfterEachEpoch(tf.keras.callbacks.Callback):\n",
    "    def on_train_begin(self, scores={}):\n",
    "        self.loss, self.accuracy, self.mae, self.mse = [], [], [], []\n",
    "    def on_train_end(self, logs={}):\n",
    "        return self.loss, self.accuracy, self.mae, self.loss\n",
    "    def on_epoch_end(self, epoch, scores):\n",
    "        self.loss.append(scores.get('loss'))\n",
    "        self.accuracy.append(scores.get('acc'))\n",
    "        self.mae.append(scores.get('mean_absolute_error'))\n",
    "        self.loss.append(scores.get('mean_squared_error'))\n",
    "        return"
   ]
  },
  {
   "cell_type": "code",
   "execution_count": 6,
   "metadata": {
    "collapsed": true
   },
   "outputs": [],
   "source": [
    "def LeNet5Classifier(activation_func):\n",
    "    # Creating a LeNet5 Classifier\n",
    "    model = Sequential()\n",
    "\n",
    "    #Instantiating Layer 1\n",
    "    model.add(Conv2D(6, kernel_size=(5, 5), strides=(1, 1), activation=activation_func, padding='valid'))\n",
    "    model.add(AveragePooling2D(pool_size=(2, 2), strides=(2, 2), name='pool1'))\n",
    "\n",
    "    # #Instantiating Layer 2\n",
    "    model.add(Conv2D(16, kernel_size=(5, 5), strides=(1, 1), activation=activation_func, padding='valid'))\n",
    "    model.add(MaxPool2D(pool_size=(2, 2), strides=(2, 2), name='pool2'))\n",
    "\n",
    "    # #Instantiating Layer 3\n",
    "    model.add(Conv2D(120, kernel_size=(5, 5), strides=(1, 1), activation=activation_func, padding='valid'))\n",
    "\n",
    "    model.add(Flatten())\n",
    "\n",
    "    #Instantiating Layer 4\n",
    "    model.add(Dense(84, activation=activation_func)) \n",
    "\n",
    "    #Output Layer\n",
    "    model.add(Dense(10, activation='softmax'))\n",
    "    return model"
   ]
  },
  {
   "cell_type": "code",
   "execution_count": 7,
   "metadata": {
    "collapsed": true
   },
   "outputs": [],
   "source": [
    "def LeNet5Evaluator(curr_optimizer, activation_func, label=None, curr_epochs=25):\n",
    "    model = LeNet5Classifier(activation_func)\n",
    "    model.compile(loss=\"categorical_crossentropy\", optimizer=curr_optimizer, validation_data=(x_val, y_val),\n",
    "                  metrics=[\"accuracy\", \"mae\", \"mse\"])\n",
    "    history = model.fit(x_train, y_train, epochs=curr_epochs, callbacks=[MetricsAfterEachEpoch()], batch_size=2048).history\n",
    "    score = model.evaluate(x_test, y_test, batch_size=512)\n",
    "    #Saving the model\n",
    "    if label == 'RAdam':\n",
    "        model.save(\"../saved_models/{}_{}_{}.hdf5\".format('RAdam', activation_func, \"LeNet5\"))\n",
    "    else: \n",
    "        model.save(\"../saved_models/{}_{}_{}.hdf5\".format(curr_optimizer, activation_func, \"LeNet5\"))\n",
    "    return score, history"
   ]
  },
  {
   "cell_type": "code",
   "execution_count": null,
   "metadata": {},
   "outputs": [
    {
     "name": "stdout",
     "output_type": "stream",
     "text": [
      "Epoch 1/25\n",
      "10000/10000 [==============================] - 4s 398us/step - loss: 2.3135 - acc: 0.0669 - mean_absolute_error: 0.1801 - mean_squared_error: 0.0902\n",
      "Epoch 2/25\n",
      "10000/10000 [==============================] - 4s 356us/step - loss: 2.3112 - acc: 0.0691 - mean_absolute_error: 0.1800 - mean_squared_error: 0.0902\n",
      "Epoch 3/25\n",
      "10000/10000 [==============================] - 4s 353us/step - loss: 2.3043 - acc: 0.0995 - mean_absolute_error: 0.1799 - mean_squared_error: 0.0900\n",
      "Epoch 4/25\n",
      "10000/10000 [==============================] - 4s 352us/step - loss: 2.2964 - acc: 0.1193 - mean_absolute_error: 0.1798 - mean_squared_error: 0.0899\n",
      "Epoch 5/25\n",
      "10000/10000 [==============================] - 4s 350us/step - loss: 2.2883 - acc: 0.1189 - mean_absolute_error: 0.1796 - mean_squared_error: 0.0897\n",
      "Epoch 6/25\n",
      "10000/10000 [==============================] - 4s 351us/step - loss: 2.2798 - acc: 0.1251 - mean_absolute_error: 0.1794 - mean_squared_error: 0.0895\n",
      "Epoch 7/25\n",
      "10000/10000 [==============================] - 4s 350us/step - loss: 2.2703 - acc: 0.1335 - mean_absolute_error: 0.1791 - mean_squared_error: 0.0893\n",
      "Epoch 8/25\n",
      "10000/10000 [==============================] - 4s 356us/step - loss: 2.2591 - acc: 0.1493 - mean_absolute_error: 0.1789 - mean_squared_error: 0.0891\n",
      "Epoch 9/25\n",
      "10000/10000 [==============================] - 4s 352us/step - loss: 2.2461 - acc: 0.1628 - mean_absolute_error: 0.1786 - mean_squared_error: 0.0888\n",
      "Epoch 10/25\n",
      "10000/10000 [==============================] - 4s 352us/step - loss: 2.2316 - acc: 0.1771 - mean_absolute_error: 0.1782 - mean_squared_error: 0.0885\n",
      "Epoch 11/25\n",
      "10000/10000 [==============================] - 4s 354us/step - loss: 2.2150 - acc: 0.1837 - mean_absolute_error: 0.1778 - mean_squared_error: 0.0881\n",
      "Epoch 12/25\n"
     ]
    }
   ],
   "source": [
    "testing_optimizers = ['RAdam', 'Adam', 'NAdam', 'SGD']\n",
    "testing_activations = ['tanh', 'relu']\n",
    "\n",
    "for optimizer in testing_optimizers:\n",
    "    for activation in testing_activations:\n",
    "        loss, accuracy, mae, mse = {}, {}, {}, {}\n",
    "        train_loss_dict, train_accuracy_dict, train_mae_dict, train_mse_dict = {}, {}, {}, {}\n",
    "        \n",
    "        if optimizer == 'RAdam':\n",
    "            score_returned, history = LeNet5Evaluator(RAdam(lr=0.0005), activation, label='RAdam')\n",
    "        else:\n",
    "            score_returned, history = LeNet5Evaluator(optimizer, activation)\n",
    "        \n",
    "        #Test Side Stats\n",
    "        loss[(optimizer, activation)] = score_returned[0]\n",
    "        accuracy[(optimizer, activation)] = score_returned[1]\n",
    "        mae[(optimizer, activation)] = score_returned[2]\n",
    "        mse[(optimizer, activation)] = score_returned[3]\n",
    "        \n",
    "        #Training Side Stats\n",
    "        train_loss_dict[(optimizer, activation)] = history.get('loss')\n",
    "        train_accuracy_dict[(optimizer, activation)] = history.get('acc')\n",
    "        train_mae_dict[(optimizer, activation)] = history.get('mean_absolute_error')\n",
    "        train_mse_dict[(optimizer, activation)] = history.get('mean_squared_error')\n",
    "        \n",
    "        bg = (loss, accuracy, mae, mse, train_loss_dict, train_accuracy_dict, train_mae_dict, train_mse_dict)\n",
    "        #Delete Existing Primary Keys and then write to DB\n",
    "        deleteExistingPrimaryKeyDB(optimizer, activation, 'LeNet5', 'milestone-experiments', 'benchmark_testing')\n",
    "        writeToDB(optimizer, activation, 'LeNet5', bg, 'milestone-experiments', 'benchmark_testing')"
   ]
  },
  {
   "cell_type": "code",
   "execution_count": 14,
   "metadata": {},
   "outputs": [
    {
     "ename": "NameError",
     "evalue": "name 'loss' is not defined",
     "output_type": "error",
     "traceback": [
      "\u001b[0;31m---------------------------------------------------------------------------\u001b[0m",
      "\u001b[0;31mNameError\u001b[0m                                 Traceback (most recent call last)",
      "\u001b[0;32m<ipython-input-14-21c8cd06c2a6>\u001b[0m in \u001b[0;36m<module>\u001b[0;34m\u001b[0m\n\u001b[0;32m----> 1\u001b[0;31m \u001b[0mprint\u001b[0m \u001b[0;34m(\u001b[0m\u001b[0;34m\"Final: Loss={}, Accuracy={}\"\u001b[0m\u001b[0;34m.\u001b[0m\u001b[0mformat\u001b[0m\u001b[0;34m(\u001b[0m\u001b[0mloss\u001b[0m\u001b[0;34m,\u001b[0m \u001b[0maccuracy\u001b[0m\u001b[0;34m)\u001b[0m\u001b[0;34m)\u001b[0m\u001b[0;34m\u001b[0m\u001b[0;34m\u001b[0m\u001b[0m\n\u001b[0m",
      "\u001b[0;31mNameError\u001b[0m: name 'loss' is not defined"
     ]
    }
   ],
   "source": [
    "print (\"Final: Loss={}, Accuracy={}\".format(loss, accuracy))"
   ]
  },
  {
   "cell_type": "code",
   "execution_count": null,
   "metadata": {},
   "outputs": [],
   "source": [
    "accuracy"
   ]
  },
  {
   "cell_type": "code",
   "execution_count": null,
   "metadata": {},
   "outputs": [],
   "source": [
    "mae"
   ]
  },
  {
   "cell_type": "code",
   "execution_count": null,
   "metadata": {},
   "outputs": [],
   "source": [
    "mse"
   ]
  },
  {
   "cell_type": "code",
   "execution_count": null,
   "metadata": {},
   "outputs": [],
   "source": [
    "train_loss_dict"
   ]
  },
  {
   "cell_type": "code",
   "execution_count": null,
   "metadata": {},
   "outputs": [],
   "source": [
    "train_accuracy_dict"
   ]
  },
  {
   "cell_type": "code",
   "execution_count": null,
   "metadata": {},
   "outputs": [],
   "source": [
    "train_mae_dict"
   ]
  },
  {
   "cell_type": "code",
   "execution_count": null,
   "metadata": {},
   "outputs": [],
   "source": [
    "train_mse_dict"
   ]
  }
 ],
 "metadata": {
  "anaconda-cloud": {},
  "kernelspec": {
   "display_name": "Python 3",
   "language": "python",
   "name": "python3"
  },
  "language_info": {
   "codemirror_mode": {
    "name": "ipython",
    "version": 3
   },
   "file_extension": ".py",
   "mimetype": "text/x-python",
   "name": "python",
   "nbconvert_exporter": "python",
   "pygments_lexer": "ipython3",
   "version": "3.6.9"
  }
 },
 "nbformat": 4,
 "nbformat_minor": 2
}
