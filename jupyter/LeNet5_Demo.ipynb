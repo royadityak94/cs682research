{
 "cells": [
  {
   "cell_type": "code",
   "execution_count": 1,
   "metadata": {
    "collapsed": true
   },
   "outputs": [],
   "source": [
    "import tensorflow as tf\n",
    "from tensorflow.keras.models import Sequential\n",
    "from tensorflow.keras.layers import Dense, Dropout, Conv2D, Conv3D, Flatten, MaxPool2D, AveragePooling2D\n",
    "from tensorflow.keras.optimizers import SGD\n",
    "from tensorflow.keras.utils import to_categorical\n",
    "from tensorflow.keras.callbacks import CSVLogger\n",
    "from tensorflow.python.keras import metrics\n",
    "import matplotlib.pyplot as plt\n",
    "from rectified_adam import RAdam\n",
    "import numpy as np\n",
    "import sys\n",
    "from utilities.pythonDB import writeToDB\n",
    "%matplotlib inline"
   ]
  },
  {
   "cell_type": "code",
   "execution_count": 2,
   "metadata": {
    "collapsed": true
   },
   "outputs": [],
   "source": [
    "def get_random_data(data1, data2, low, high, max_samples=100):\n",
    "    _, H1, W1, C1 = data1.shape\n",
    "    _, N = data2.shape\n",
    "    suff_data1 = np.zeros((max_samples, H1, W1, C1))\n",
    "    suff_data2 = np.zeros((max_samples, N))\n",
    "    shuffles = np.random.randint(low, high+1, max_samples)\n",
    "    for idx in range(shuffles.shape[0]):\n",
    "        suff_data1[idx] = data1[idx, :, :, :]\n",
    "        suff_data2[idx] = data2[idx, :]\n",
    "    return suff_data1, suff_data2"
   ]
  },
  {
   "cell_type": "code",
   "execution_count": 3,
   "metadata": {
    "collapsed": true
   },
   "outputs": [],
   "source": [
    "MAX_TRAINING = 10000\n",
    "MAX_VALIDATION = 2000\n",
    "MAX_TESTING = 2000\n",
    "correct_class = {1 : 'airplane', 2 : 'automobile', 3 : 'bird', 4 : 'cat', 5 : \\\n",
    "                 'deer', 6 : 'dog', 7 : 'frog', 8 : 'horse', 9 : 'ship', 10 : 'truck'}"
   ]
  },
  {
   "cell_type": "code",
   "execution_count": 4,
   "metadata": {
    "collapsed": false
   },
   "outputs": [
    {
     "name": "stdout",
     "output_type": "stream",
     "text": [
      "Number of Training Samples: X=10000, Y=10000\n",
      "Number of Validation Samples: X=2000, Y=2000\n",
      "Number of Test Samples: X=2000, Y=2000\n"
     ]
    }
   ],
   "source": [
    "#Loading CIFAR-10 dataset\n",
    "cifar = tf.keras.datasets.cifar10 \n",
    "(x_train, y_train), (x_test, y_test) = cifar.load_data()\n",
    "\n",
    "# Keeping the data between 0 and 1\n",
    "x_train_max, x_test_max = x_train / 255.0, x_test / 255.0\n",
    "y_train_max = to_categorical(y_train, num_classes=10)\n",
    "y_test_max = to_categorical(y_test, num_classes=10)\n",
    "\n",
    "x_train, y_train = get_random_data(x_train_max, y_train_max, 0, MAX_TRAINING*3, MAX_TRAINING)\n",
    "x_val, y_val = get_random_data(x_train_max, y_train_max, MAX_TRAINING*3+1, x_train_max.shape[0], MAX_VALIDATION)\n",
    "x_test, y_test = get_random_data(x_test_max, y_test_max, 0, x_test_max.shape[0], MAX_TESTING)\n",
    "\n",
    "print (\"Number of Training Samples: X={}, Y={}\".format(x_train.shape[0], y_train.shape[0]))\n",
    "print (\"Number of Validation Samples: X={}, Y={}\".format(x_val.shape[0], y_val.shape[0]))\n",
    "print (\"Number of Test Samples: X={}, Y={}\".format(x_test.shape[0], y_test.shape[0]))"
   ]
  },
  {
   "cell_type": "code",
   "execution_count": 5,
   "metadata": {
    "collapsed": true
   },
   "outputs": [],
   "source": [
    "class MetricsAfterEachEpoch(tf.keras.callbacks.Callback):\n",
    "    def on_train_begin(self, scores={}):\n",
    "        self.loss, self.accuracy, self.mae, self.mse = [], [], [], []\n",
    "    def on_train_end(self, logs={}):\n",
    "        return self.loss, self.accuracy, self.mae, self.loss\n",
    "    def on_epoch_end(self, epoch, scores):\n",
    "        self.loss.append(scores.get('loss'))\n",
    "        self.accuracy.append(scores.get('acc'))\n",
    "        self.mae.append(scores.get('mean_absolute_error'))\n",
    "        self.loss.append(scores.get('mean_squared_error'))\n",
    "        return"
   ]
  },
  {
   "cell_type": "code",
   "execution_count": 6,
   "metadata": {
    "collapsed": true
   },
   "outputs": [],
   "source": [
    "def LeNet5Classifier(activation_func):\n",
    "    # Creating a LeNet5 Classifier\n",
    "    model = Sequential()\n",
    "\n",
    "    #Instantiating Layer 1\n",
    "    model.add(Conv2D(6, kernel_size=(5, 5), strides=(1, 1), activation=activation_func, padding='valid'))\n",
    "    model.add(AveragePooling2D(pool_size=(2, 2), strides=(2, 2), name='pool1'))\n",
    "\n",
    "    # #Instantiating Layer 2\n",
    "    model.add(Conv2D(16, kernel_size=(5, 5), strides=(1, 1), activation=activation_func, padding='valid'))\n",
    "    model.add(MaxPool2D(pool_size=(2, 2), strides=(2, 2), name='pool2'))\n",
    "\n",
    "    # #Instantiating Layer 3\n",
    "    model.add(Conv2D(120, kernel_size=(5, 5), strides=(1, 1), activation=activation_func, padding='valid'))\n",
    "\n",
    "    model.add(Flatten())\n",
    "\n",
    "    #Instantiating Layer 4\n",
    "    model.add(Dense(84, activation=activation_func)) \n",
    "\n",
    "    #Output Layer\n",
    "    model.add(Dense(10, activation='softmax'))\n",
    "    return model"
   ]
  },
  {
   "cell_type": "code",
   "execution_count": 7,
   "metadata": {
    "collapsed": true
   },
   "outputs": [],
   "source": [
    "def LeNet5Evaluator(curr_optimizer, activation_func, curr_epochs=25):\n",
    "    model = LeNet5Classifier(activation_func)\n",
    "    model.compile(loss=\"categorical_crossentropy\", optimizer=curr_optimizer, validation_data=(x_val, y_val),\n",
    "                  metrics=[\"accuracy\", \"mae\", \"mse\"])\n",
    "    history = model.fit(x_train, y_train, epochs=curr_epochs, callbacks=[MetricsAfterEachEpoch()], batch_size=2048).history\n",
    "    score = model.evaluate(x_test, y_test, batch_size=512)\n",
    "    return score, history"
   ]
  },
  {
   "cell_type": "code",
   "execution_count": null,
   "metadata": {
    "collapsed": false
   },
   "outputs": [
    {
     "name": "stdout",
     "output_type": "stream",
     "text": [
      "Epoch 1/25\n",
      "10000/10000 [==============================] - 4s 396us/step - loss: 2.3260 - acc: 0.0760 - mean_absolute_error: 0.1802 - mean_squared_error: 0.0904\n",
      "Epoch 2/25\n",
      "10000/10000 [==============================] - 4s 352us/step - loss: 2.3233 - acc: 0.0798 - mean_absolute_error: 0.1802 - mean_squared_error: 0.0903\n",
      "Epoch 3/25\n",
      "10000/10000 [==============================] - 4s 357us/step - loss: 2.3150 - acc: 0.0946 - mean_absolute_error: 0.1801 - mean_squared_error: 0.0902\n",
      "Epoch 4/25\n",
      "10000/10000 [==============================] - 4s 366us/step - loss: 2.3056 - acc: 0.1329 - mean_absolute_error: 0.1800 - mean_squared_error: 0.0900\n",
      "Epoch 5/25\n",
      "10000/10000 [==============================] - 4s 382us/step - loss: 2.2959 - acc: 0.1539 - mean_absolute_error: 0.1798 - mean_squared_error: 0.0899\n",
      "Epoch 6/25\n",
      "10000/10000 [==============================] - 5s 522us/step - loss: 2.2857 - acc: 0.1540 - mean_absolute_error: 0.1796 - mean_squared_error: 0.0896\n",
      "Epoch 7/25\n",
      "10000/10000 [==============================] - 6s 591us/step - loss: 2.2750 - acc: 0.1451 - mean_absolute_error: 0.1793 - mean_squared_error: 0.0894\n",
      "Epoch 8/25\n",
      "10000/10000 [==============================] - 9s 857us/step - loss: 2.2627 - acc: 0.1519 - mean_absolute_error: 0.1790 - mean_squared_error: 0.0892\n",
      "Epoch 9/25\n",
      "10000/10000 [==============================] - 10s 1ms/step - loss: 2.2493 - acc: 0.1632 - mean_absolute_error: 0.1787 - mean_squared_error: 0.0889\n",
      "Epoch 10/25\n",
      "10000/10000 [==============================] - 10s 1ms/step - loss: 2.2341 - acc: 0.1773 - mean_absolute_error: 0.1783 - mean_squared_error: 0.0885\n",
      "Epoch 11/25\n",
      "10000/10000 [==============================] - 11s 1ms/step - loss: 2.2172 - acc: 0.1897 - mean_absolute_error: 0.1779 - mean_squared_error: 0.0882\n",
      "Epoch 12/25\n",
      "10000/10000 [==============================] - 10s 994us/step - loss: 2.1986 - acc: 0.1984 - mean_absolute_error: 0.1773 - mean_squared_error: 0.0878\n",
      "Epoch 13/25\n",
      "10000/10000 [==============================] - 11s 1ms/step - loss: 2.1779 - acc: 0.2114 - mean_absolute_error: 0.1767 - mean_squared_error: 0.0873\n",
      "Epoch 14/25\n",
      "10000/10000 [==============================] - 11s 1ms/step - loss: 2.1558 - acc: 0.2240 - mean_absolute_error: 0.1760 - mean_squared_error: 0.0868\n",
      "Epoch 15/25\n",
      "10000/10000 [==============================] - 11s 1ms/step - loss: 2.1328 - acc: 0.2342 - mean_absolute_error: 0.1752 - mean_squared_error: 0.0864\n",
      "Epoch 16/25\n",
      "10000/10000 [==============================] - 10s 1ms/step - loss: 2.1097 - acc: 0.2406 - mean_absolute_error: 0.1743 - mean_squared_error: 0.0859\n",
      "Epoch 17/25\n",
      "10000/10000 [==============================] - 11s 1ms/step - loss: 2.0869 - acc: 0.2504 - mean_absolute_error: 0.1735 - mean_squared_error: 0.0854\n",
      "Epoch 18/25\n",
      "10000/10000 [==============================] - 11s 1ms/step - loss: 2.0653 - acc: 0.2591 - mean_absolute_error: 0.1725 - mean_squared_error: 0.0849\n",
      "Epoch 19/25\n",
      "10000/10000 [==============================] - 11s 1ms/step - loss: 2.0455 - acc: 0.2665 - mean_absolute_error: 0.1717 - mean_squared_error: 0.0845\n",
      "Epoch 20/25\n",
      "10000/10000 [==============================] - 10s 986us/step - loss: 2.0266 - acc: 0.2703 - mean_absolute_error: 0.1708 - mean_squared_error: 0.0841\n",
      "Epoch 21/25\n",
      "10000/10000 [==============================] - 11s 1ms/step - loss: 2.0089 - acc: 0.2773 - mean_absolute_error: 0.1700 - mean_squared_error: 0.0837\n",
      "Epoch 22/25\n",
      "10000/10000 [==============================] - 10s 986us/step - loss: 1.9919 - acc: 0.2780 - mean_absolute_error: 0.1691 - mean_squared_error: 0.0832\n",
      "Epoch 23/25\n",
      "10000/10000 [==============================] - 11s 1ms/step - loss: 1.9758 - acc: 0.2861 - mean_absolute_error: 0.1685 - mean_squared_error: 0.0828\n",
      "Epoch 24/25\n",
      "10000/10000 [==============================] - 10s 980us/step - loss: 1.9598 - acc: 0.2924 - mean_absolute_error: 0.1677 - mean_squared_error: 0.0824\n",
      "Epoch 25/25\n",
      "10000/10000 [==============================] - 11s 1ms/step - loss: 1.9449 - acc: 0.2998 - mean_absolute_error: 0.1670 - mean_squared_error: 0.0820\n",
      "2000/2000 [==============================] - 1s 629us/step\n",
      "({('RAdam', 'tanh'): 1.9429993696212768}, {('RAdam', 'tanh'): 0.3134999976158142}, {('RAdam', 'tanh'): 0.16623280000686647}, {('RAdam', 'tanh'): 0.08163040161132812}, {('RAdam', 'tanh'): [2.326038180923462, 2.323292582321167, 2.315038818359375, 2.3056164478302, 2.2959356903076173, 2.285668978881836, 2.274969588470459, 2.2627479831695556, 2.249268795013428, 2.2340920955657957, 2.2172079723358156, 2.198589657974243, 2.177909827423096, 2.1558366413116454, 2.1328035461425783, 2.10965380859375, 2.0868894966125486, 2.065259404754639, 2.045482307815552, 2.0265666305541994, 2.0089382881164553, 1.9919166803359984, 1.9758062540054322, 1.959790069770813, 1.9449288681030275]}, {('RAdam', 'tanh'): [0.0760000004529953, 0.07979999947547912, 0.09459999984502793, 0.13290000112056732, 0.15390000019073485, 0.15400000002384187, 0.1450999987602234, 0.1519000011205673, 0.16320000126361847, 0.177300000667572, 0.18969999957084654, 0.1984000007867813, 0.21139999973773957, 0.22400000004768372, 0.23420000247955322, 0.24059999878406524, 0.2504000021457672, 0.2591000023841858, 0.26649999742507935, 0.27030000209808347, 0.2773000012397766, 0.27800000047683715, 0.28610000009536746, 0.29240000147819517, 0.2998000025749207]}, {('RAdam', 'tanh'): [0.18021301975250245, 0.18018763728141785, 0.18009777641296387, 0.179961696100235, 0.17978254108428954, 0.17956430547237395, 0.17932212145328522, 0.17903888564109802, 0.17871811852455138, 0.17834093418121338, 0.17787851667404175, 0.17733003637790679, 0.17670352785587312, 0.17602635974884034, 0.17524964792728423, 0.17433439311981203, 0.17345041871070863, 0.17254734189510346, 0.17168076572418212, 0.17076037635803223, 0.17001930758953093, 0.1691404977798462, 0.1685183593273163, 0.16768211855888368, 0.1670125904560089]}, {('RAdam', 'tanh'): [0.09038047590255738, 0.09033712474107743, 0.09020290342569351, 0.09003747678995132, 0.08985270730257035, 0.08964431347846985, 0.08942108241319656, 0.08916282091140747, 0.08887511178255081, 0.08854818909168244, 0.08817731516361237, 0.08776480897665023, 0.08731502804756165, 0.08684865120649338, 0.08635740095376969, 0.08585177320241928, 0.085373539352417, 0.08491229523420334, 0.08447946722507477, 0.08405295141935348, 0.0836504813194275, 0.08323649801015853, 0.08283206762075424, 0.08241138426065445, 0.08200381880998611]})\n",
      "Successfully written to the database...\n",
      "Epoch 1/25\n",
      "10000/10000 [==============================] - 12s 1ms/step - loss: 2.3015 - acc: 0.1014 - mean_absolute_error: 0.1800 - mean_squared_error: 0.0900\n",
      "Epoch 2/25\n",
      "10000/10000 [==============================] - 10s 1ms/step - loss: 2.3012 - acc: 0.1022 - mean_absolute_error: 0.1800 - mean_squared_error: 0.0900\n",
      "Epoch 3/25\n",
      "10000/10000 [==============================] - 11s 1ms/step - loss: 2.3003 - acc: 0.1035 - mean_absolute_error: 0.1799 - mean_squared_error: 0.0900\n",
      "Epoch 4/25\n",
      "10000/10000 [==============================] - 11s 1ms/step - loss: 2.2989 - acc: 0.1060 - mean_absolute_error: 0.1799 - mean_squared_error: 0.0899\n",
      "Epoch 5/25\n",
      "10000/10000 [==============================] - 10s 1ms/step - loss: 2.2969 - acc: 0.1076 - mean_absolute_error: 0.1799 - mean_squared_error: 0.0899\n",
      "Epoch 6/25\n",
      "10000/10000 [==============================] - 11s 1ms/step - loss: 2.2944 - acc: 0.1066 - mean_absolute_error: 0.1798 - mean_squared_error: 0.0898\n",
      "Epoch 7/25\n",
      "10000/10000 [==============================] - 10s 1ms/step - loss: 2.2913 - acc: 0.1046 - mean_absolute_error: 0.1797 - mean_squared_error: 0.0898\n",
      "Epoch 8/25\n",
      "10000/10000 [==============================] - 10s 1000us/step - loss: 2.2874 - acc: 0.1035 - mean_absolute_error: 0.1797 - mean_squared_error: 0.0897\n",
      "Epoch 9/25\n",
      "10000/10000 [==============================] - 10s 1ms/step - loss: 2.2825 - acc: 0.1029 - mean_absolute_error: 0.1795 - mean_squared_error: 0.0896\n",
      "Epoch 10/25\n",
      "10000/10000 [==============================] - 11s 1ms/step - loss: 2.2767 - acc: 0.1027 - mean_absolute_error: 0.1794 - mean_squared_error: 0.0895\n",
      "Epoch 11/25\n",
      "10000/10000 [==============================] - 10s 1ms/step - loss: 2.2698 - acc: 0.1031 - mean_absolute_error: 0.1792 - mean_squared_error: 0.0893\n",
      "Epoch 12/25\n",
      "10000/10000 [==============================] - 10s 1ms/step - loss: 2.2617 - acc: 0.1037 - mean_absolute_error: 0.1790 - mean_squared_error: 0.0892\n",
      "Epoch 13/25\n",
      "10000/10000 [==============================] - 11s 1ms/step - loss: 2.2517 - acc: 0.1102 - mean_absolute_error: 0.1788 - mean_squared_error: 0.0890\n",
      "Epoch 14/25\n",
      "10000/10000 [==============================] - 11s 1ms/step - loss: 2.2399 - acc: 0.1338 - mean_absolute_error: 0.1784 - mean_squared_error: 0.0887\n",
      "Epoch 15/25\n",
      "10000/10000 [==============================] - 10s 1ms/step - loss: 2.2257 - acc: 0.1715 - mean_absolute_error: 0.1781 - mean_squared_error: 0.0884\n",
      "Epoch 16/25\n",
      "10000/10000 [==============================] - 11s 1ms/step - loss: 2.2092 - acc: 0.2077 - mean_absolute_error: 0.1776 - mean_squared_error: 0.0880\n",
      "Epoch 17/25\n",
      "10000/10000 [==============================] - 11s 1ms/step - loss: 2.1894 - acc: 0.2359 - mean_absolute_error: 0.1771 - mean_squared_error: 0.0876\n",
      "Epoch 18/25\n",
      "10000/10000 [==============================] - 10s 981us/step - loss: 2.1664 - acc: 0.2580 - mean_absolute_error: 0.1764 - mean_squared_error: 0.0871\n",
      "Epoch 19/25\n",
      "10000/10000 [==============================] - 10s 1ms/step - loss: 2.1411 - acc: 0.2671 - mean_absolute_error: 0.1756 - mean_squared_error: 0.0865\n",
      "Epoch 20/25\n",
      "10000/10000 [==============================] - 11s 1ms/step - loss: 2.1136 - acc: 0.2773 - mean_absolute_error: 0.1747 - mean_squared_error: 0.0859\n",
      "Epoch 21/25\n",
      "10000/10000 [==============================] - 10s 984us/step - loss: 2.0845 - acc: 0.2810 - mean_absolute_error: 0.1737 - mean_squared_error: 0.0853\n",
      "Epoch 22/25\n",
      "10000/10000 [==============================] - 11s 1ms/step - loss: 2.0544 - acc: 0.2856 - mean_absolute_error: 0.1724 - mean_squared_error: 0.0846\n",
      "Epoch 23/25\n",
      "10000/10000 [==============================] - 10s 984us/step - loss: 2.0258 - acc: 0.2927 - mean_absolute_error: 0.1712 - mean_squared_error: 0.0839\n",
      "Epoch 24/25\n",
      "10000/10000 [==============================] - 11s 1ms/step - loss: 1.9991 - acc: 0.2971 - mean_absolute_error: 0.1699 - mean_squared_error: 0.0833\n",
      "Epoch 25/25\n",
      "10000/10000 [==============================] - 11s 1ms/step - loss: 1.9751 - acc: 0.3013 - mean_absolute_error: 0.1687 - mean_squared_error: 0.0827\n",
      "2000/2000 [==============================] - 1s 586us/step\n",
      "({('RAdam', 'relu'): 1.9768289728164672}, {('RAdam', 'relu'): 0.3005000011920929}, {('RAdam', 'relu'): 0.16780857694149018}, {('RAdam', 'relu'): 0.08242633163928986}, {('RAdam', 'relu'): [2.3014693321228026, 2.301230213165283, 2.3002897815704344, 2.29885590171814, 2.296923932647705, 2.2944137077331543, 2.291348914718628, 2.2874347980499268, 2.2825224193572997, 2.276693710708618, 2.269838864517212, 2.261700827026367, 2.2517364406585694, 2.239927206039429, 2.225719291305542, 2.2092075965881346, 2.18941298789978, 2.1664276195526124, 2.141077904510498, 2.1136351188659668, 2.084454885864258, 2.054399088668823, 2.025750095748901, 1.999100574874878, 1.9750697456359863]}, {('RAdam', 'relu'): [0.10140000060796737, 0.10220000005960464, 0.10350000004768371, 0.10600000047683716, 0.10760000056028365, 0.1065999997973442, 0.10460000017881393, 0.10350000005960465, 0.10289999984502793, 0.10270000004768372, 0.10309999984502792, 0.10369999934434891, 0.11020000004768371, 0.13380000052452087, 0.17149999945163727, 0.20770000035762787, 0.23589999883174897, 0.25799999914169314, 0.26709999804496765, 0.27729999799728394, 0.2809999987602234, 0.28559999833106997, 0.2927000014781952, 0.29710000052452085, 0.3013000003814697]}, {('RAdam', 'relu'): [0.17997073016166687, 0.17996574459075929, 0.17994614305496215, 0.1799158550977707, 0.17987411212921142, 0.1798188315153122, 0.17974937739372254, 0.17965893845558167, 0.17954174633026124, 0.17939700701236724, 0.17922384073734282, 0.17901573388576508, 0.17876019394397735, 0.1784485873699188, 0.1780661463022232, 0.17761204214096069, 0.17705307042598725, 0.17639442558288573, 0.17559866693019868, 0.17467511324882506, 0.17366896431446074, 0.1724346688747406, 0.17118571493625642, 0.16993892154693604, 0.16874490551948548]}, {('RAdam', 'relu'): [0.08997774027585984, 0.08997296360731125, 0.0899541888475418, 0.08992562568187713, 0.08988715000152588, 0.089837244951725, 0.08977611649036407, 0.08969723304510116, 0.0895968429684639, 0.08947641557455063, 0.08933392797708511, 0.08916376152038574, 0.08895426374673844, 0.0887038473367691, 0.08839962297677993, 0.08804090296030044, 0.08760399339199067, 0.08709418206214904, 0.08653141281604766, 0.08591923364400864, 0.08525922960042953, 0.08456842074394226, 0.0838939544081688, 0.08327231734991074, 0.0826816737651825]})\n",
      "Successfully written to the database...\n",
      "Epoch 1/25\n",
      "10000/10000 [==============================] - 12s 1ms/step - loss: 2.2339 - acc: 0.1881 - mean_absolute_error: 0.1783 - mean_squared_error: 0.0885\n",
      "Epoch 2/25\n",
      "10000/10000 [==============================] - 11s 1ms/step - loss: 2.0385 - acc: 0.2788 - mean_absolute_error: 0.1716 - mean_squared_error: 0.0841\n",
      "Epoch 3/25\n",
      "10000/10000 [==============================] - 10s 1ms/step - loss: 1.9174 - acc: 0.3056 - mean_absolute_error: 0.1645 - mean_squared_error: 0.0811\n",
      "Epoch 4/25\n",
      "10000/10000 [==============================] - 11s 1ms/step - loss: 1.8751 - acc: 0.3268 - mean_absolute_error: 0.1602 - mean_squared_error: 0.0796\n",
      "Epoch 5/25\n",
      "10000/10000 [==============================] - 10s 1ms/step - loss: 1.8329 - acc: 0.3414 - mean_absolute_error: 0.1571 - mean_squared_error: 0.0783\n",
      "Epoch 6/25\n",
      "10000/10000 [==============================] - 11s 1ms/step - loss: 1.7911 - acc: 0.3628 - mean_absolute_error: 0.1555 - mean_squared_error: 0.0771\n",
      "Epoch 7/25\n",
      "10000/10000 [==============================] - 10s 1ms/step - loss: 1.7538 - acc: 0.3772 - mean_absolute_error: 0.1546 - mean_squared_error: 0.0759\n",
      "Epoch 8/25\n",
      "10000/10000 [==============================] - 11s 1ms/step - loss: 1.7253 - acc: 0.3870 - mean_absolute_error: 0.1536 - mean_squared_error: 0.0750\n",
      "Epoch 9/25\n",
      "10000/10000 [==============================] - 10s 1ms/step - loss: 1.7000 - acc: 0.3979 - mean_absolute_error: 0.1519 - mean_squared_error: 0.0743\n",
      "Epoch 10/25\n",
      "10000/10000 [==============================] - 11s 1ms/step - loss: 1.6731 - acc: 0.4093 - mean_absolute_error: 0.1500 - mean_squared_error: 0.0733\n",
      "Epoch 11/25\n",
      "10000/10000 [==============================] - 10s 1ms/step - loss: 1.6521 - acc: 0.4157 - mean_absolute_error: 0.1480 - mean_squared_error: 0.0726\n",
      "Epoch 12/25\n",
      "10000/10000 [==============================] - 11s 1ms/step - loss: 1.6261 - acc: 0.4270 - mean_absolute_error: 0.1463 - mean_squared_error: 0.0717\n",
      "Epoch 13/25\n",
      "10000/10000 [==============================] - 10s 1ms/step - loss: 1.6036 - acc: 0.4367 - mean_absolute_error: 0.1450 - mean_squared_error: 0.0709\n",
      "Epoch 14/25\n",
      "10000/10000 [==============================] - 11s 1ms/step - loss: 1.5796 - acc: 0.4440 - mean_absolute_error: 0.1437 - mean_squared_error: 0.0701\n",
      "Epoch 15/25\n",
      "10000/10000 [==============================] - 11s 1ms/step - loss: 1.5574 - acc: 0.4531 - mean_absolute_error: 0.1422 - mean_squared_error: 0.0693\n",
      "Epoch 16/25\n",
      "10000/10000 [==============================] - 11s 1ms/step - loss: 1.5353 - acc: 0.4596 - mean_absolute_error: 0.1407 - mean_squared_error: 0.0685\n",
      "Epoch 17/25\n",
      "10000/10000 [==============================] - 10s 1ms/step - loss: 1.5204 - acc: 0.4643 - mean_absolute_error: 0.1393 - mean_squared_error: 0.0680\n",
      "Epoch 18/25\n",
      "10000/10000 [==============================] - 11s 1ms/step - loss: 1.4983 - acc: 0.4743 - mean_absolute_error: 0.1382 - mean_squared_error: 0.0673\n",
      "Epoch 19/25\n",
      "10000/10000 [==============================] - 10s 992us/step - loss: 1.4756 - acc: 0.4801 - mean_absolute_error: 0.1364 - mean_squared_error: 0.0665\n",
      "Epoch 20/25\n",
      "10000/10000 [==============================] - 11s 1ms/step - loss: 1.4594 - acc: 0.4858 - mean_absolute_error: 0.1352 - mean_squared_error: 0.0659\n",
      "Epoch 21/25\n",
      "10000/10000 [==============================] - 11s 1ms/step - loss: 1.4423 - acc: 0.4919 - mean_absolute_error: 0.1339 - mean_squared_error: 0.0653\n",
      "Epoch 22/25\n",
      "10000/10000 [==============================] - 11s 1ms/step - loss: 1.4212 - acc: 0.5000 - mean_absolute_error: 0.1328 - mean_squared_error: 0.0645\n",
      "Epoch 23/25\n",
      "10000/10000 [==============================] - 10s 994us/step - loss: 1.4062 - acc: 0.5023 - mean_absolute_error: 0.1313 - mean_squared_error: 0.0639\n",
      "Epoch 24/25\n",
      "10000/10000 [==============================] - 10s 979us/step - loss: 1.3945 - acc: 0.5090 - mean_absolute_error: 0.1305 - mean_squared_error: 0.0634\n",
      "Epoch 25/25\n",
      "10000/10000 [==============================] - 11s 1ms/step - loss: 1.3813 - acc: 0.5111 - mean_absolute_error: 0.1295 - mean_squared_error: 0.0630\n",
      "2000/2000 [==============================] - 1s 571us/step\n",
      "({('Adam', 'tanh'): 1.4862684535980224}, {('Adam', 'tanh'): 0.4800000033378601}, {('Adam', 'tanh'): 0.13241200947761536}, {('Adam', 'tanh'): 0.06613873451948166}, {('Adam', 'tanh'): [2.2338548309326174, 2.038473740005493, 1.917420588684082, 1.8750849027633667, 1.8328685047149658, 1.791073344230652, 1.7537664854049682, 1.7252923358917236, 1.7000370121002197, 1.6730889474868775, 1.652095785331726, 1.6260759687423707, 1.6035795412063598, 1.5795760471343994, 1.5574395515441894, 1.5353488859176636, 1.5204220022201538, 1.4983093694686889, 1.475584295463562, 1.459364670562744, 1.442320583152771, 1.421205158996582, 1.4061642349243164, 1.3944703542709351, 1.3813215982437135]}, {('Adam', 'tanh'): [0.1880999997138977, 0.2788000004291534, 0.3056000010490417, 0.3267999999523163, 0.3413999976158142, 0.36280000252723693, 0.37720000176429747, 0.3870000023841858, 0.39790000238418577, 0.40930000023841856, 0.4156999975681305, 0.42700000104904173, 0.43669999904632567, 0.4439999982357025, 0.45309999737739565, 0.4596000009536743, 0.4642999978542328, 0.47430000076293943, 0.4801000023365021, 0.4857999979019165, 0.49189999895095826, 0.49999999561309816, 0.5023000003814697, 0.509000002527237, 0.5111000044822693]}, {('Adam', 'tanh'): [0.17831619672775267, 0.17156400384902953, 0.1644697754383087, 0.16015999813079834, 0.15711569712162018, 0.15554783811569214, 0.1546096172094345, 0.15358344774246216, 0.15191922121047974, 0.14995183639526366, 0.14800756523609163, 0.14631975190639496, 0.14504670338630676, 0.14366400940418245, 0.1422289389848709, 0.14072625668048858, 0.13926174538135527, 0.13817134466171266, 0.13639723479747773, 0.13518029589653016, 0.13393470683097838, 0.13275104932785034, 0.13133088047504424, 0.13054076745510101, 0.1295331367969513]}, {('Adam', 'tanh'): [0.08854974666833877, 0.08407826693058014, 0.08105923510789871, 0.07964647184610367, 0.07832473648786545, 0.07707473595142364, 0.07594148592948914, 0.07504148604869842, 0.07427287086248398, 0.07332810883522034, 0.07257104796171189, 0.07166851300001144, 0.0709048462510109, 0.07007019670009614, 0.069325417470932, 0.06854305402040481, 0.06795169031620026, 0.06734917731285095, 0.06650653295516967, 0.06593785789012908, 0.06533021668195725, 0.06454001005887985, 0.06394323583841324, 0.06343584325313568, 0.06300933505296707]})\n",
      "Successfully written to the database...\n",
      "Epoch 1/25\n",
      "10000/10000 [==============================] - 12s 1ms/step - loss: 2.2976 - acc: 0.1036 - mean_absolute_error: 0.1799 - mean_squared_error: 0.0899\n",
      "Epoch 2/25\n",
      "10000/10000 [==============================] - 11s 1ms/step - loss: 2.2708 - acc: 0.1890 - mean_absolute_error: 0.1793 - mean_squared_error: 0.0893\n",
      "Epoch 3/25\n",
      "10000/10000 [==============================] - 11s 1ms/step - loss: 2.2100 - acc: 0.2164 - mean_absolute_error: 0.1776 - mean_squared_error: 0.0880\n",
      "Epoch 4/25\n",
      "10000/10000 [==============================] - 10s 1ms/step - loss: 2.1211 - acc: 0.2489 - mean_absolute_error: 0.1740 - mean_squared_error: 0.0859\n",
      "Epoch 5/25\n",
      "10000/10000 [==============================] - 11s 1ms/step - loss: 2.0530 - acc: 0.2605 - mean_absolute_error: 0.1699 - mean_squared_error: 0.0842\n",
      "Epoch 6/25\n",
      "10000/10000 [==============================] - 11s 1ms/step - loss: 2.0017 - acc: 0.2847 - mean_absolute_error: 0.1668 - mean_squared_error: 0.0828\n",
      "Epoch 7/25\n",
      "10000/10000 [==============================] - 11s 1ms/step - loss: 1.9696 - acc: 0.2974 - mean_absolute_error: 0.1649 - mean_squared_error: 0.0820\n",
      "Epoch 8/25\n",
      "10000/10000 [==============================] - 10s 967us/step - loss: 1.9373 - acc: 0.3071 - mean_absolute_error: 0.1636 - mean_squared_error: 0.0811\n",
      "Epoch 9/25\n",
      "10000/10000 [==============================] - 11s 1ms/step - loss: 1.9013 - acc: 0.3264 - mean_absolute_error: 0.1622 - mean_squared_error: 0.0801\n",
      "Epoch 10/25\n",
      "10000/10000 [==============================] - 11s 1ms/step - loss: 1.8577 - acc: 0.3386 - mean_absolute_error: 0.1603 - mean_squared_error: 0.0789\n",
      "Epoch 11/25\n",
      "10000/10000 [==============================] - 11s 1ms/step - loss: 1.8064 - acc: 0.3616 - mean_absolute_error: 0.1581 - mean_squared_error: 0.0776\n",
      "Epoch 12/25\n",
      "10000/10000 [==============================] - 11s 1ms/step - loss: 1.7689 - acc: 0.3729 - mean_absolute_error: 0.1557 - mean_squared_error: 0.0766\n",
      "Epoch 13/25\n",
      "10000/10000 [==============================] - 10s 1ms/step - loss: 1.7439 - acc: 0.3791 - mean_absolute_error: 0.1540 - mean_squared_error: 0.0759\n",
      "Epoch 14/25\n",
      "10000/10000 [==============================] - 10s 973us/step - loss: 1.7197 - acc: 0.3905 - mean_absolute_error: 0.1529 - mean_squared_error: 0.0752\n"
     ]
    }
   ],
   "source": [
    "testing_optimizers = ['RAdam', 'Adam', 'NAdam', 'SGD']\n",
    "testing_activations = ['tanh', 'relu']\n",
    "\n",
    "for optimizer in testing_optimizers:\n",
    "    for activation in testing_activations:\n",
    "        loss, accuracy, mae, mse = {}, {}, {}, {}\n",
    "        train_loss_dict, train_accuracy_dict, train_mae_dict, train_mse_dict = {}, {}, {}, {}\n",
    "        \n",
    "        if optimizer == 'RAdam':\n",
    "            score_returned, history = LeNet5Evaluator(RAdam(lr=0.0005), activation)\n",
    "        else:\n",
    "            score_returned, history = LeNet5Evaluator(optimizer, activation)\n",
    "        \n",
    "        #Test Side Stats\n",
    "        loss[(optimizer, activation)] = score_returned[0]\n",
    "        accuracy[(optimizer, activation)] = score_returned[1]\n",
    "        mae[(optimizer, activation)] = score_returned[2]\n",
    "        mse[(optimizer, activation)] = score_returned[3]\n",
    "        \n",
    "        #Training Side Stats\n",
    "        train_loss_dict[(optimizer, activation)] = history.get('loss')\n",
    "        train_accuracy_dict[(optimizer, activation)] = history.get('acc')\n",
    "        train_mae_dict[(optimizer, activation)] = history.get('mean_absolute_error')\n",
    "        train_mse_dict[(optimizer, activation)] = history.get('mean_squared_error')\n",
    "        \n",
    "        bg = (loss, accuracy, mae, mse, train_loss_dict, train_accuracy_dict, train_mae_dict, train_mse_dict)\n",
    "        #print (bg)\n",
    "        writeToDB(optimizer, activation, 'LeNet5', bg, 'milestone-experiments', 'benchmark_testing')"
   ]
  },
  {
   "cell_type": "code",
   "execution_count": 17,
   "metadata": {
    "collapsed": false
   },
   "outputs": [
    {
     "data": {
      "text/plain": [
       "{('SGD', 'relu'): 2.298825853347778}"
      ]
     },
     "execution_count": 17,
     "metadata": {},
     "output_type": "execute_result"
    }
   ],
   "source": [
    "loss"
   ]
  },
  {
   "cell_type": "code",
   "execution_count": 18,
   "metadata": {
    "collapsed": false
   },
   "outputs": [
    {
     "data": {
      "text/plain": [
       "{('SGD', 'relu'): 0.10449999964237214}"
      ]
     },
     "execution_count": 18,
     "metadata": {},
     "output_type": "execute_result"
    }
   ],
   "source": [
    "accuracy"
   ]
  },
  {
   "cell_type": "code",
   "execution_count": 19,
   "metadata": {
    "collapsed": false
   },
   "outputs": [
    {
     "data": {
      "text/plain": [
       "{('SGD', 'relu'): 0.17991932642459868}"
      ]
     },
     "execution_count": 19,
     "metadata": {},
     "output_type": "execute_result"
    }
   ],
   "source": [
    "mae"
   ]
  },
  {
   "cell_type": "code",
   "execution_count": 20,
   "metadata": {
    "collapsed": false
   },
   "outputs": [
    {
     "data": {
      "text/plain": [
       "{('SGD', 'relu'): 0.08992593061923981}"
      ]
     },
     "execution_count": 20,
     "metadata": {},
     "output_type": "execute_result"
    }
   ],
   "source": [
    "mse"
   ]
  },
  {
   "cell_type": "code",
   "execution_count": 21,
   "metadata": {
    "collapsed": false
   },
   "outputs": [
    {
     "data": {
      "text/plain": [
       "{('SGD', 'relu'): [2.303701672744751,\n",
       "  2.303417487335205,\n",
       "  2.303154260635376,\n",
       "  2.3029071487426758,\n",
       "  2.3026690887451173,\n",
       "  2.3024488124847413,\n",
       "  2.3022381484985353,\n",
       "  2.302039360809326,\n",
       "  2.301848092651367,\n",
       "  2.3016646842956545,\n",
       "  2.301492157363892,\n",
       "  2.3013234283447264,\n",
       "  2.3011592666625975,\n",
       "  2.3009973583221437,\n",
       "  2.300842265701294,\n",
       "  2.300681693649292,\n",
       "  2.3005234027862547,\n",
       "  2.300366414642334,\n",
       "  2.3002087245941163,\n",
       "  2.300052359008789,\n",
       "  2.2998901679992674,\n",
       "  2.2997284362792967,\n",
       "  2.29956358833313,\n",
       "  2.299401658248901,\n",
       "  2.299230917739868]}"
      ]
     },
     "execution_count": 21,
     "metadata": {},
     "output_type": "execute_result"
    }
   ],
   "source": [
    "train_loss_dict"
   ]
  },
  {
   "cell_type": "code",
   "execution_count": 22,
   "metadata": {
    "collapsed": false
   },
   "outputs": [
    {
     "data": {
      "text/plain": [
       "{('SGD', 'relu'): [0.10169999967813492,\n",
       "  0.10160000030994415,\n",
       "  0.10170000064373017,\n",
       "  0.10200000060796738,\n",
       "  0.10189999989271165,\n",
       "  0.10260000047683716,\n",
       "  0.10279999934434891,\n",
       "  0.10319999959468841,\n",
       "  0.10330000057220459,\n",
       "  0.10320000056028367,\n",
       "  0.10250000060796738,\n",
       "  0.10320000005960464,\n",
       "  0.10319999997615814,\n",
       "  0.10350000064373016,\n",
       "  0.10420000056028367,\n",
       "  0.10530000056028366,\n",
       "  0.10519999947547913,\n",
       "  0.10650000030994415,\n",
       "  0.1064999994635582,\n",
       "  0.1076999993443489,\n",
       "  0.10900000005960464,\n",
       "  0.10959999958276749,\n",
       "  0.11080000013113021,\n",
       "  0.11140000047683715,\n",
       "  0.111899999833107]}"
      ]
     },
     "execution_count": 22,
     "metadata": {},
     "output_type": "execute_result"
    }
   ],
   "source": [
    "train_accuracy_dict"
   ]
  },
  {
   "cell_type": "code",
   "execution_count": 23,
   "metadata": {
    "collapsed": false
   },
   "outputs": [
    {
     "data": {
      "text/plain": [
       "{('SGD', 'relu'): [0.18001309928894044,\n",
       "  0.180007781624794,\n",
       "  0.18000293180942536,\n",
       "  0.17999832966327667,\n",
       "  0.17999377522468568,\n",
       "  0.17998968794345857,\n",
       "  0.1799857249736786,\n",
       "  0.17998195872306824,\n",
       "  0.17997830407619475,\n",
       "  0.17997479457855226,\n",
       "  0.17997148869037627,\n",
       "  0.17996826436519622,\n",
       "  0.1799650949716568,\n",
       "  0.17996194195747375,\n",
       "  0.17995895643234253,\n",
       "  0.17995582683086395,\n",
       "  0.1799527683019638,\n",
       "  0.17994969365596772,\n",
       "  0.17994657549858092,\n",
       "  0.17994339327812195,\n",
       "  0.17994023158550262,\n",
       "  0.1799369546175003,\n",
       "  0.17993371980190276,\n",
       "  0.17993046987056732,\n",
       "  0.17992702305316924]}"
      ]
     },
     "execution_count": 23,
     "metadata": {},
     "output_type": "execute_result"
    }
   ],
   "source": [
    "train_mae_dict"
   ]
  },
  {
   "cell_type": "code",
   "execution_count": 24,
   "metadata": {
    "collapsed": false
   },
   "outputs": [
    {
     "data": {
      "text/plain": [
       "{('SGD', 'relu'): [0.09002238937616348,\n",
       "  0.09001674494743347,\n",
       "  0.09001154217720032,\n",
       "  0.09000665017366409,\n",
       "  0.09000192174911499,\n",
       "  0.08999757596254349,\n",
       "  0.08999338257312775,\n",
       "  0.08998945095539093,\n",
       "  0.08998565465211868,\n",
       "  0.08998200845718383,\n",
       "  0.0899785859465599,\n",
       "  0.0899752198934555,\n",
       "  0.08997195633649827,\n",
       "  0.08996872819662094,\n",
       "  0.08996564069986343,\n",
       "  0.08996243748664856,\n",
       "  0.08995928218364715,\n",
       "  0.08995614227056503,\n",
       "  0.08995300195217133,\n",
       "  0.08994987907409668,\n",
       "  0.08994663865566253,\n",
       "  0.08994342594146729,\n",
       "  0.08994012947082519,\n",
       "  0.08993689839839936,\n",
       "  0.08993349393606186]}"
      ]
     },
     "execution_count": 24,
     "metadata": {},
     "output_type": "execute_result"
    }
   ],
   "source": [
    "train_mse_dict"
   ]
  }
 ],
 "metadata": {
  "anaconda-cloud": {},
  "kernelspec": {
   "display_name": "Python [conda env:cs682]",
   "language": "python",
   "name": "conda-env-cs682-py"
  },
  "language_info": {
   "codemirror_mode": {
    "name": "ipython",
    "version": 3
   },
   "file_extension": ".py",
   "mimetype": "text/x-python",
   "name": "python",
   "nbconvert_exporter": "python",
   "pygments_lexer": "ipython3",
   "version": "3.6.2"
  }
 },
 "nbformat": 4,
 "nbformat_minor": 2
}
