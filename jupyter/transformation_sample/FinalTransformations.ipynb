{
 "cells": [
  {
   "cell_type": "code",
   "execution_count": 1,
   "metadata": {},
   "outputs": [],
   "source": [
    "import tensorflow as tf\n",
    "import matplotlib.pyplot as plt\n",
    "import numpy as np\n",
    "import sys\n",
    "from utilities.pythonDB import writeToDB, deleteExistingPrimaryKeyDB\n",
    "from utilities.resnet import ResNet18, ResNet34\n",
    "%matplotlib inline"
   ]
  },
  {
   "cell_type": "code",
   "execution_count": 2,
   "metadata": {},
   "outputs": [],
   "source": [
    "def get_random_data(data1, data2, low, high, max_samples=100):\n",
    "    _, H1, W1, C1 = data1.shape\n",
    "    _, N = data2.shape\n",
    "    suff_data1 = np.zeros((max_samples, H1, W1, C1))\n",
    "    suff_data2 = np.zeros((max_samples, N))\n",
    "    shuffles = np.random.randint(low, high+1, max_samples)\n",
    "    for idx in range(shuffles.shape[0]):\n",
    "        suff_data1[idx] = data1[idx, :, :, :]\n",
    "        suff_data2[idx] = data2[idx, :]\n",
    "    return suff_data1, suff_data2"
   ]
  },
  {
   "cell_type": "code",
   "execution_count": 3,
   "metadata": {},
   "outputs": [],
   "source": [
    "MAX_TRAINING = 25000\n",
    "MAX_VALIDATION = 5000\n",
    "MAX_TESTING = 4000\n",
    "correct_class = {0 : 'airplane', 1 : 'automobile', 2 : 'bird', 3 : 'cat', 4 : 'deer', \\\n",
    "                 5 : 'dog', 6 : 'frog', 7 : 'horse', 8 : 'ship', 9 : 'truck'}"
   ]
  },
  {
   "cell_type": "code",
   "execution_count": 4,
   "metadata": {},
   "outputs": [],
   "source": [
    "cifar = tf.keras.datasets.cifar10\n",
    "(x_train_o, y_train_o), (x_test_o, y_test_o) = cifar.load_data()"
   ]
  },
  {
   "cell_type": "code",
   "execution_count": 17,
   "metadata": {},
   "outputs": [],
   "source": [
    "from utilities.data_preprocessors import flip_vertical_np, flip_horizontal_np, rotate_np, flip_rotate, \\\n",
    "perform_swirl_transformation, perform_random_affine_transform, mixed_transformations, add_gaussian_noise, add_sp_noise, \\\n",
    "add_poisson_noise, add_multiplicative_noise, random_image_eraser, correct_low_visibility, gamma_correction\n",
    "\n",
    "class TransformDataset(object):\n",
    "    def scale(self, X, x_min=0, x_max=1):\n",
    "        nom = (X-X.min(axis=0))*(x_max-x_min)\n",
    "        denom = X.max(axis=0) - X.min(axis=0)\n",
    "        denom[denom==0] = 1\n",
    "        return x_min + nom/denom\n",
    "    def return_function(self, name, im):\n",
    "        return getattr(self, 'if_' + name)(correct_low_visibility(im))\n",
    "    def if_flip_vertical_np(self, im):\n",
    "        return self.scale(flip_vertical_np(im))\n",
    "    def if_flip_horizontal_np(self, im):\n",
    "        return self.scale(flip_horizontal_np(im))\n",
    "    def if_rotate_np(self, im):\n",
    "        return self.scale(rotate_np(im))\n",
    "    def if_flip_rotate(self, im):\n",
    "        return self.scale(flip_rotate(im))\n",
    "    def if_perform_swirl_transformation(self, im):\n",
    "        return self.scale(perform_swirl_transformation(im))\n",
    "    def if_perform_random_affine_transform(self, im):\n",
    "        return self.scale(perform_random_affine_transform(im))\n",
    "    def if_mixed_transformations(self, im):\n",
    "        return self.scale(mixed_transformations(im))\n",
    "    def if_add_gaussian_noise(self, im):\n",
    "        return self.scale(add_gaussian_noise(im))\n",
    "    def if_add_sp_noise(self, im):\n",
    "        return self.scale(add_sp_noise(im))\n",
    "    def if_add_poisson_noise(self, im):\n",
    "        return self.scale(add_poisson_noise(im))\n",
    "    def if_add_multiplicative_noise(self, im):\n",
    "        return self.scale(add_multiplicative_noise(im))\n",
    "    def if_random_image_eraser(self, im):\n",
    "        return self.scale(random_image_eraser(im))\n",
    "    def if_correct_low_visibility(self, im):\n",
    "        return self.scale(correct_low_visibility(im))\n",
    "    def if_gamma_correction(self, im):\n",
    "        return self.scale(gamma_correction(im))\n",
    "\n",
    "def get_random_shuffle_set(data1, data2, ratios=None, notFull=False):\n",
    "    if ratios is None:\n",
    "        ratios = {\"flip_vertical_np\":.1, 'flip_horizontal_np':.1, 'rotate_np':.15, 'flip_rotate':.2, \\\n",
    "                  'perform_swirl_transformation':.1, 'perform_random_affine_transform':.15, 'mixed_transformations':.2}\n",
    "    _, H1, W1, C1 = data1.shape\n",
    "    N, _ = data2.shape\n",
    "    total = int(np.round(np.sum([ratios.get(k) for k in ratios.keys()]) * N, 1))\n",
    "    new_N = total if total != N else N\n",
    "    \n",
    "    shuffles = np.random.randint(0, N, new_N)\n",
    "    low = 0\n",
    "    x_train_ret, y_train_ret, img_idx  = np.zeros((new_N, H1, W1, C1)), np.zeros((new_N, 1)), 0\n",
    "\n",
    "    for key in ratios.keys():\n",
    "        high = int(ratios.get(key) * N)\n",
    "        data = shuffles[low:low+high]\n",
    "        low += high\n",
    "        for idxs in data:\n",
    "            x_train_ret[img_idx] = TransformDataset().return_function(key, data1[idxs])\n",
    "            y_train_ret[img_idx] = data2[idxs]\n",
    "            img_idx += 1\n",
    "    return x_train_ret, y_train_ret"
   ]
  },
  {
   "cell_type": "code",
   "execution_count": null,
   "metadata": {},
   "outputs": [],
   "source": [
    "ratio1 = {\"gamma_correction\": 0.8, \"correct_low_visibility\":0.10, \"random_image_eraser\":.10}\n",
    "total = int(np.round(np.sum([ratio1.get(k) for k in ratio1.keys()]) * N, 1))\n",
    "total"
   ]
  },
  {
   "cell_type": "code",
   "execution_count": 27,
   "metadata": {},
   "outputs": [],
   "source": [
    "ratio1 = {\"gamma_correction\": 0.01, \"correct_low_visibility\":0.01, \"random_image_eraser\":.01}\n",
    "#ratio2 = {\"add_gaussian_noise\": 0.01, \"add_sp_noise\": 0.01, \"add_poisson_noise\":.01, 'add_multiplicative_noise':.01}\n",
    "\n",
    "x_train_ret1, y_train_ret1 = get_random_shuffle_set(x_train_o, y_train_o, ratio1)"
   ]
  },
  {
   "cell_type": "code",
   "execution_count": 32,
   "metadata": {},
   "outputs": [
    {
     "data": {
      "text/plain": [
       "<matplotlib.image.AxesImage at 0x7faa5a2191d0>"
      ]
     },
     "execution_count": 32,
     "metadata": {},
     "output_type": "execute_result"
    },
    {
     "data": {
      "image/png": "[encoded data removed]",
      "text/plain": [
       "<Figure size 432x288 with 1 Axes>"
      ]
     },
     "metadata": {
      "needs_background": "light"
     },
     "output_type": "display_data"
    }
   ],
   "source": [
    "plt.imshow(x_train_ret1[13])"
   ]
  }
 ],
 "metadata": {
  "kernelspec": {
   "display_name": "Python (cs682)",
   "language": "python",
   "name": "cs682"
  },
  "language_info": {
   "codemirror_mode": {
    "name": "ipython",
    "version": 3
   },
   "file_extension": ".py",
   "mimetype": "text/x-python",
   "name": "python",
   "nbconvert_exporter": "python",
   "pygments_lexer": "ipython3",
   "version": "3.6.9"
  }
 },
 "nbformat": 4,
 "nbformat_minor": 2
}
