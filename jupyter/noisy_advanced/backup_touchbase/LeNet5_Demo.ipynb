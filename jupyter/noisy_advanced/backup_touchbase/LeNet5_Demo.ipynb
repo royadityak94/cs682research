{
 "cells": [
  {
   "cell_type": "code",
   "execution_count": 11,
   "metadata": {},
   "outputs": [],
   "source": [
    "import tensorflow as tf\n",
    "from tensorflow.keras.models import Sequential\n",
    "from tensorflow.keras.layers import Dense, Dropout, Conv2D, Conv3D, Flatten, MaxPool2D, AveragePooling2D, BatchNormalization\n",
    "from tensorflow.keras.optimizers import SGD\n",
    "from tensorflow.keras.utils import to_categorical\n",
    "from tensorflow.keras.callbacks import CSVLogger\n",
    "from tensorflow.keras import metrics\n",
    "import matplotlib.pyplot as plt\n",
    "from utilities.rectified_adam import RAdam\n",
    "import numpy as np\n",
    "import sys\n",
    "from utilities.pythonDB import writeToDB, deleteExistingPrimaryKeyDB\n",
    "from build_augmentor import return_augmented_dataset\n",
    "%matplotlib inline"
   ]
  },
  {
   "cell_type": "code",
   "execution_count": 2,
   "metadata": {},
   "outputs": [],
   "source": [
    "def get_random_data(data1, data2, low, high, max_samples=100):\n",
    "    _, H1, W1, C1 = data1.shape\n",
    "    _, N = data2.shape\n",
    "    suff_data1 = np.zeros((max_samples, H1, W1, C1))\n",
    "    suff_data2 = np.zeros((max_samples, N))\n",
    "    shuffles = np.random.randint(low, high+1, max_samples)\n",
    "    for idx in range(shuffles.shape[0]):\n",
    "        suff_data1[idx] = data1[idx, :, :, :]\n",
    "        suff_data2[idx] = data2[idx, :]\n",
    "    return suff_data1, suff_data2"
   ]
  },
  {
   "cell_type": "code",
   "execution_count": 3,
   "metadata": {},
   "outputs": [],
   "source": [
    "MAX_TRAINING = 20000 #25000\n",
    "MAX_VALIDATION = 2000 #5000\n",
    "MAX_TESTING = 4000 #4000\n",
    "global MAX_EPOCHS, MAX_BATCH_SIZE, architecture, label, keywords\n",
    "MAX_EPOCHS, MAX_BATCH_SIZE = 15, 1024\n",
    "architecture = 'LeNet5'\n",
    "label, keywords = 'final-experiments1', 'benchmark_evaluation'"
   ]
  },
  {
   "cell_type": "code",
   "execution_count": 4,
   "metadata": {},
   "outputs": [],
   "source": [
    "#Loading CIFAR-10 dataset\n",
    "cifar = tf.keras.datasets.cifar10 \n",
    "(x_train, y_train), (x_test, y_test) = cifar.load_data()\n",
    "\n",
    "# Keeping the data between 0 and 1\n",
    "x_train_max, x_test_max = x_train / 255.0, x_test / 255.0\n",
    "y_train_max = to_categorical(y_train, num_classes=10)\n",
    "y_test_max = to_categorical(y_test, num_classes=10)\n",
    "\n",
    "train_cutoff = int(x_train_max.shape[0] - MAX_VALIDATION*1.5)\n",
    "\n",
    "x_train, y_train = get_random_data(x_train_max, y_train_max, 0, train_cutoff, MAX_TRAINING)\n",
    "x_train, y_train = return_augmented_dataset(x_train, y_train, -1)\n",
    "\n",
    "np.save('mixed_set/x_train.npy', x_train)\n",
    "np.save('mixed_set/y_train.npy', y_train)"
   ]
  },
  {
   "cell_type": "code",
   "execution_count": 5,
   "metadata": {},
   "outputs": [
    {
     "name": "stdout",
     "output_type": "stream",
     "text": [
      "Number of Training Samples: X=22400, Y=22400\n",
      "Number of Validation Samples: X=2000, Y=2000\n",
      "Number of Test Samples: X=4000, Y=4000\n"
     ]
    }
   ],
   "source": [
    "x_train, y_train = np.load('mixed_set/x_train.npy'), np.load('mixed_set/y_train.npy')\n",
    "x_val, y_val = get_random_data(x_train_max, y_train_max, train_cutoff+1, x_train_max.shape[0], MAX_VALIDATION)\n",
    "x_test, y_test = get_random_data(x_test_max, y_test_max, 0, x_test_max.shape[0], MAX_TESTING)\n",
    "print (\"Number of Training Samples: X={}, Y={}\".format(x_train.shape[0], y_train.shape[0]))\n",
    "print (\"Number of Validation Samples: X={}, Y={}\".format(x_val.shape[0], y_val.shape[0]))\n",
    "print (\"Number of Test Samples: X={}, Y={}\".format(x_test.shape[0], y_test.shape[0]))"
   ]
  },
  {
   "cell_type": "code",
   "execution_count": 8,
   "metadata": {},
   "outputs": [],
   "source": [
    "class MetricsAfterEachEpoch(tf.keras.callbacks.Callback):\n",
    "    def on_train_begin(self, scores={}):\n",
    "        self.loss, self.accuracy, self.mae, self.mse = [], [], [], []\n",
    "    def on_train_end(self, logs={}):\n",
    "        return self.loss, self.accuracy, self.mae, self.loss\n",
    "    def on_epoch_end(self, epoch, scores):\n",
    "        self.loss.append(scores.get('loss'))\n",
    "        self.accuracy.append(scores.get('acc'))\n",
    "        self.mae.append(scores.get('mean_absolute_error'))\n",
    "        self.loss.append(scores.get('mean_squared_error'))\n",
    "        return"
   ]
  },
  {
   "cell_type": "code",
   "execution_count": 7,
   "metadata": {},
   "outputs": [],
   "source": [
    "activation_func, optimizer = 'relu', 'Adam'\n",
    "MAX_BATCH_SIZE = 256"
   ]
  },
  {
   "cell_type": "code",
   "execution_count": 15,
   "metadata": {},
   "outputs": [],
   "source": [
    "model = Sequential()\n",
    "\n",
    "#Instantiating Layer 1\n",
    "model.add(Conv2D(6, kernel_size=(5, 5), strides=(1, 1), activation=activation_func, padding='valid'))\n",
    "model.add(MaxPool2D(pool_size=(2, 2), strides=(2, 2), name='pool1'))\n",
    "\n",
    "# #Instantiating Layer 2\n",
    "model.add(Conv2D(16, kernel_size=(5, 5), strides=(1, 1), activation=activation_func, padding='valid', kernel_initializer = 'he_uniform'))\n",
    "model.add(MaxPool2D(pool_size=(2, 2), strides=(2, 2), name='pool2'))\n",
    "model.add(BatchNormalization())\n",
    "model.add(Dropout(.2))\n",
    "# #Instantiating Layer 3\n",
    "model.add(Conv2D(120, kernel_size=(5, 5), strides=(1, 1), activation=activation_func, padding='valid', kernel_initializer = 'he_uniform'))\n",
    "model.add(BatchNormalization())\n",
    "model.add(Dropout(.2))\n",
    "model.add(Flatten())\n",
    "\n",
    "#Instantiating Layer 4\n",
    "model.add(Dense(84, activation=activation_func)) \n",
    "model.add(BatchNormalization())\n",
    "\n",
    "#Output Layer\n",
    "model.add(Dense(10, activation='softmax'))"
   ]
  },
  {
   "cell_type": "code",
   "execution_count": 16,
   "metadata": {},
   "outputs": [
    {
     "name": "stdout",
     "output_type": "stream",
     "text": [
      "Train on 22400 samples\n",
      "Epoch 1/15\n",
      "22400/22400 [==============================] - 3s 136us/sample - loss: 2.3604 - acc: 0.1490 - mean_absolute_error: 0.1707 - mean_squared_error: 0.0898\n",
      "Epoch 2/15\n",
      "22400/22400 [==============================] - 2s 84us/sample - loss: 2.2046 - acc: 0.1608 - mean_absolute_error: 0.1689 - mean_squared_error: 0.0863\n",
      "Epoch 3/15\n",
      "22400/22400 [==============================] - 2s 84us/sample - loss: 2.1564 - acc: 0.1677 - mean_absolute_error: 0.1684 - mean_squared_error: 0.0853\n",
      "Epoch 4/15\n",
      "22400/22400 [==============================] - 2s 83us/sample - loss: 2.1396 - acc: 0.1725 - mean_absolute_error: 0.1680 - mean_squared_error: 0.0848\n",
      "Epoch 5/15\n",
      "22400/22400 [==============================] - 2s 85us/sample - loss: 2.1286 - acc: 0.1729 - mean_absolute_error: 0.1680 - mean_squared_error: 0.0845\n",
      "Epoch 6/15\n",
      "22400/22400 [==============================] - 2s 85us/sample - loss: 2.1195 - acc: 0.1729 - mean_absolute_error: 0.1676 - mean_squared_error: 0.0841\n",
      "Epoch 7/15\n",
      "22400/22400 [==============================] - 2s 84us/sample - loss: 2.1131 - acc: 0.1780 - mean_absolute_error: 0.1672 - mean_squared_error: 0.0838\n",
      "Epoch 8/15\n",
      "22400/22400 [==============================] - 2s 84us/sample - loss: 2.1093 - acc: 0.1774 - mean_absolute_error: 0.1671 - mean_squared_error: 0.0837\n",
      "Epoch 9/15\n",
      "22400/22400 [==============================] - 2s 83us/sample - loss: 2.1056 - acc: 0.1845 - mean_absolute_error: 0.1670 - mean_squared_error: 0.0836\n",
      "Epoch 10/15\n",
      "22400/22400 [==============================] - 2s 83us/sample - loss: 2.0885 - acc: 0.2035 - mean_absolute_error: 0.1665 - mean_squared_error: 0.0833\n",
      "Epoch 11/15\n",
      "22400/22400 [==============================] - 2s 84us/sample - loss: 2.0297 - acc: 0.2449 - mean_absolute_error: 0.1648 - mean_squared_error: 0.0822\n",
      "Epoch 12/15\n",
      "22400/22400 [==============================] - 2s 84us/sample - loss: 1.9277 - acc: 0.2762 - mean_absolute_error: 0.1611 - mean_squared_error: 0.0801\n",
      "Epoch 13/15\n",
      "22400/22400 [==============================] - 2s 83us/sample - loss: 1.8592 - acc: 0.3008 - mean_absolute_error: 0.1574 - mean_squared_error: 0.0785\n",
      "Epoch 14/15\n",
      "22400/22400 [==============================] - 2s 83us/sample - loss: 1.7906 - acc: 0.3260 - mean_absolute_error: 0.1537 - mean_squared_error: 0.0766\n",
      "Epoch 15/15\n",
      "22400/22400 [==============================] - 2s 83us/sample - loss: 1.7381 - acc: 0.3454 - mean_absolute_error: 0.1510 - mean_squared_error: 0.0753\n",
      "4000/4000 [==============================] - 1s 131us/sample - loss: 2.1796 - acc: 0.1785 - mean_absolute_error: 0.1747 - mean_squared_error: 0.0876\n",
      "Accuray = 0.1784999966621399\n"
     ]
    }
   ],
   "source": [
    "model.compile(loss=\"categorical_crossentropy\", optimizer=optimizer, validation_data=(x_val, y_val),\n",
    "                  metrics=[\"accuracy\", \"mae\", \"mse\"])\n",
    "history = model.fit(x_train, y_train, epochs=MAX_EPOCHS, batch_size=1024).history\n",
    "score = model.evaluate(x_test, y_test, batch_size=MAX_BATCH_SIZE)\n",
    "print (\"Accuray = {}\".format(score[1]))"
   ]
  },
  {
   "cell_type": "code",
   "execution_count": null,
   "metadata": {},
   "outputs": [],
   "source": []
  },
  {
   "cell_type": "code",
   "execution_count": null,
   "metadata": {},
   "outputs": [],
   "source": [
    "# Run1 - 0.0890, Run2 -0.1210, Run3-.15, Run4-.4872, Run5, "
   ]
  },
  {
   "cell_type": "code",
   "execution_count": null,
   "metadata": {},
   "outputs": [],
   "source": [
    "# #39%\n",
    "# model = Sequential()\n",
    "\n",
    "# #Instantiating Layer 1\n",
    "# model.add(Conv2D(6, kernel_size=(5, 5), strides=(1, 1), activation=activation_func, padding='valid'))\n",
    "# model.add(MaxPool2D(pool_size=(2, 2), strides=(2, 2), name='pool1'))\n",
    "# model.add(BatchNormalization())\n",
    "\n",
    "# # #Instantiating Layer 2\n",
    "# model.add(Conv2D(16, kernel_size=(5, 5), strides=(1, 1), activation=activation_func, padding='valid', kernel_initializer = 'he_uniform'))\n",
    "# model.add(MaxPool2D(pool_size=(2, 2), strides=(2, 2), name='pool2'))\n",
    "# model.add(BatchNormalization())\n",
    "\n",
    "# # #Instantiating Layer 3\n",
    "# model.add(Conv2D(120, kernel_size=(5, 5), strides=(1, 1), activation=activation_func, padding='valid', kernel_initializer = 'he_uniform'))\n",
    "# model.add(BatchNormalization())\n",
    "# model.add(Flatten())\n",
    "\n",
    "# #Instantiating Layer 4\n",
    "# model.add(Dense(84, activation=activation_func)) \n",
    "# model.add(BatchNormalization())\n",
    "\n",
    "# #Output Layer\n",
    "# model.add(Dense(10, activation='softmax'))"
   ]
  },
  {
   "cell_type": "code",
   "execution_count": null,
   "metadata": {},
   "outputs": [],
   "source": []
  },
  {
   "cell_type": "code",
   "execution_count": null,
   "metadata": {},
   "outputs": [],
   "source": []
  },
  {
   "cell_type": "code",
   "execution_count": null,
   "metadata": {},
   "outputs": [],
   "source": []
  },
  {
   "cell_type": "code",
   "execution_count": null,
   "metadata": {},
   "outputs": [],
   "source": []
  },
  {
   "cell_type": "code",
   "execution_count": null,
   "metadata": {},
   "outputs": [],
   "source": []
  },
  {
   "cell_type": "code",
   "execution_count": null,
   "metadata": {},
   "outputs": [],
   "source": []
  },
  {
   "cell_type": "code",
   "execution_count": null,
   "metadata": {},
   "outputs": [],
   "source": []
  },
  {
   "cell_type": "code",
   "execution_count": null,
   "metadata": {},
   "outputs": [],
   "source": [
    "def model_extractor(activation_func):\n",
    "    # Creating a LeNet5 Classifier\n",
    "    model = Sequential()\n",
    "\n",
    "    #Instantiating Layer 1\n",
    "    model.add(Conv2D(6, kernel_size=(5, 5), strides=(1, 1), activation=activation_func, padding='valid'))\n",
    "    model.add(AveragePooling2D(pool_size=(2, 2), strides=(2, 2), name='pool1'))\n",
    "\n",
    "    # #Instantiating Layer 2\n",
    "    model.add(Conv2D(16, kernel_size=(5, 5), strides=(1, 1), activation=activation_func, padding='valid'))\n",
    "    model.add(MaxPool2D(pool_size=(2, 2), strides=(2, 2), name='pool2'))\n",
    "\n",
    "    # #Instantiating Layer 3\n",
    "    model.add(Conv2D(120, kernel_size=(5, 5), strides=(1, 1), activation=activation_func, padding='valid'))\n",
    "\n",
    "    model.add(Flatten())\n",
    "\n",
    "    #Instantiating Layer 4\n",
    "    model.add(Dense(84, activation=activation_func)) \n",
    "\n",
    "    #Output Layer\n",
    "    model.add(Dense(10, activation='softmax'))\n",
    "    return model"
   ]
  },
  {
   "cell_type": "code",
   "execution_count": null,
   "metadata": {},
   "outputs": [],
   "source": [
    "def diff_optimizer(curr_optimizer, activation_func, label=None, curr_epochs=MAX_EPOCHS):\n",
    "    model = model_extractor(activation_func)\n",
    "    model.compile(loss=\"categorical_crossentropy\", optimizer=curr_optimizer, validation_data=(x_val, y_val),\n",
    "                  metrics=[\"accuracy\", \"mae\", \"mse\"])\n",
    "    history = model.fit(x_train, y_train, epochs=curr_epochs, batch_size=1024).history\n",
    "    score = model.evaluate(x_test, y_test, batch_size=MAX_BATCH_SIZE)\n",
    "    \n",
    "    #Saving the model\n",
    "    if label == 'RAdam':\n",
    "        model.save(\"../../saved_models/{}_{}_{}.hdf5\".format('RAdam', activation_func, architecture))\n",
    "    else: \n",
    "        model.save(\"../../saved_models/{}_{}_{}.hdf5\".format(curr_optimizer, activation_func, architecture))\n",
    "    return score, history"
   ]
  },
  {
   "cell_type": "code",
   "execution_count": null,
   "metadata": {},
   "outputs": [],
   "source": [
    "testing_optimizers = ['RAdam']#['RAdam', 'Adam', 'NAdam', 'SGD']\n",
    "testing_activations = ['tanh'] #['tanh', 'relu', 'selu']\n",
    "\n",
    "for optimizer in testing_optimizers:\n",
    "    for activation in testing_activations:\n",
    "        loss, accuracy, mae, mse = {}, {}, {}, {}\n",
    "        train_loss_dict, train_accuracy_dict, train_mae_dict, train_mse_dict = {}, {}, {}, {}\n",
    "\n",
    "        if optimizer == 'RAdam':\n",
    "            score_returned, history = diff_optimizer(RAdam(lr=0.005), activation, label='RAdam')\n",
    "        else:\n",
    "            score_returned, history = diff_optimizer(optimizer, activation)\n",
    "\n",
    "\n",
    "        bg = (score_returned[0], score_returned[1], score_returned[2], score_returned[3], history.get('loss'),\\\n",
    "          history.get('accuracy'), history.get('mae'), history.get('mae'))\n",
    "\n",
    "        #Delete Existing Primary Keys and then write to DB\n",
    "        deleteExistingPrimaryKeyDB(optimizer, activation, architecture, label, keywords)\n",
    "        writeToDB(optimizer, activation, architecture, bg, label, keywords)\n",
    "\n",
    "print (\"Completed Execution for architecture={}\".format(architecture))"
   ]
  },
  {
   "cell_type": "code",
   "execution_count": null,
   "metadata": {},
   "outputs": [],
   "source": [
    "model.summary"
   ]
  },
  {
   "cell_type": "code",
   "execution_count": null,
   "metadata": {},
   "outputs": [],
   "source": []
  }
 ],
 "metadata": {
  "anaconda-cloud": {},
  "kernelspec": {
   "display_name": "Python (cs682)",
   "language": "python",
   "name": "cs682"
  },
  "language_info": {
   "codemirror_mode": {
    "name": "ipython",
    "version": 3
   },
   "file_extension": ".py",
   "mimetype": "text/x-python",
   "name": "python",
   "nbconvert_exporter": "python",
   "pygments_lexer": "ipython3",
   "version": "3.6.9"
  }
 },
 "nbformat": 4,
 "nbformat_minor": 2
}
