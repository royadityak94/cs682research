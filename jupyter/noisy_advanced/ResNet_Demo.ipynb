{
 "cells": [
  {
   "cell_type": "code",
   "execution_count": 1,
   "metadata": {},
   "outputs": [
    {
     "name": "stderr",
     "output_type": "stream",
     "text": [
      "Using TensorFlow backend.\n"
     ]
    }
   ],
   "source": [
    "import tensorflow as tf\n",
    "from tensorflow.keras.models import Sequential\n",
    "from tensorflow.keras.layers import Dense, Dropout, Conv2D, Conv3D, Flatten, MaxPool2D, AveragePooling2D, BatchNormalization\n",
    "from tensorflow.keras.optimizers import SGD\n",
    "from tensorflow.keras.utils import to_categorical\n",
    "from tensorflow.keras.callbacks import CSVLogger\n",
    "from tensorflow.python.keras import metrics\n",
    "import matplotlib.pyplot as plt\n",
    "from utilities.rectified_adam import RAdam\n",
    "import numpy as np\n",
    "import sys\n",
    "from utilities.pythonDB import writeToDB, deleteExistingPrimaryKeyDB\n",
    "from utilities.data_preprocessors import get_random_data, MetricsAfterEachEpoch\n",
    "from keras import regularizers\n",
    "from keras.constraints import unit_norm\n",
    "from utilities.resnet import ResNet18"
   ]
  },
  {
   "cell_type": "code",
   "execution_count": 2,
   "metadata": {},
   "outputs": [],
   "source": [
    "global MAX_EPOCHS, MAX_BATCH_SIZE, architecture, label, keywords\n",
    "MAX_EPOCHS, MAX_BATCH_SIZE = 15, 1024\n",
    "architecture = 'ResNet18'\n",
    "label, keywords = 'noisy_bl-experiments_test', 'benchmark_testing_test'"
   ]
  },
  {
   "cell_type": "code",
   "execution_count": 3,
   "metadata": {},
   "outputs": [
    {
     "name": "stdout",
     "output_type": "stream",
     "text": [
      "Number of Training Samples: X=20000, Y=20000\n",
      "Number of Validation Samples: X=2000, Y=2000\n",
      "Number of Test Samples: X=5000, Y=5000\n"
     ]
    }
   ],
   "source": [
    "MAX_TRAINING = 20000\n",
    "MAX_VALIDATION = 2000\n",
    "MAX_TESTING = 5000\n",
    "\n",
    "base = 'noisy_dataset/noisy/cifar_10_{}.npy'\n",
    "x_train_max, y_train = np.load(base.format('x_train')), np.load(base.format('y_train'))\n",
    "x_test_max, y_test = np.load(base.format('x_test')), np.load(base.format('y_test'))\n",
    "y_train_max, y_test_max = to_categorical(y_train, num_classes=10), to_categorical(y_test, num_classes=10)\n",
    "\n",
    "train_cutoff = int(x_train_max.shape[0] - MAX_VALIDATION)\n",
    "\n",
    "x_train, y_train = get_random_data(x_train_max, y_train_max, 0, train_cutoff, MAX_TRAINING)\n",
    "x_val, y_val = get_random_data(x_test_max, y_test_max, 0, x_test_max.shape[0], MAX_VALIDATION)\n",
    "x_test, y_test = get_random_data(x_test_max, y_test_max, 0, x_test_max.shape[0], MAX_TESTING)\n",
    "\n",
    "print (\"Number of Training Samples: X={}, Y={}\".format(x_train.shape[0], y_train.shape[0]))\n",
    "print (\"Number of Validation Samples: X={}, Y={}\".format(x_val.shape[0], y_val.shape[0]))\n",
    "print (\"Number of Test Samples: X={}, Y={}\".format(x_test.shape[0], y_test.shape[0]))"
   ]
  },
  {
   "cell_type": "code",
   "execution_count": 4,
   "metadata": {},
   "outputs": [
    {
     "name": "stdout",
     "output_type": "stream",
     "text": [
      "WARNING:tensorflow:From /home/ec2-user/anaconda3/lib/python3.6/site-packages/tensorflow_core/python/ops/resource_variable_ops.py:1630: calling BaseResourceVariable.__init__ (from tensorflow.python.ops.resource_variable_ops) with constraint is deprecated and will be removed in a future version.\n",
      "Instructions for updating:\n",
      "If using Keras pass *_constraint arguments to layers.\n",
      "reshaping via a convolution...\n",
      "reshaping via a convolution...\n",
      "reshaping via a convolution...\n",
      "reshaping via a convolution...\n"
     ]
    }
   ],
   "source": [
    "img_rows, img_cols, img_channels = x_train[0].shape\n",
    "nb_classes = y_test[0].shape[0]\n",
    "activation, optimizer = 'relu', 'Adam'\n",
    "model = ResNet18((img_rows, img_cols, img_channels), nb_classes, activation)"
   ]
  },
  {
   "cell_type": "code",
   "execution_count": 8,
   "metadata": {},
   "outputs": [],
   "source": [
    "loss, accuracy, mae, mse = {}, {}, {}, {}\n",
    "train_loss_dict, train_accuracy_dict, train_mae_dict, train_mse_dict = {}, {}, {}, {}\n",
    "model.compile(loss=\"categorical_crossentropy\", optimizer=optimizer, metrics=[\"accuracy\", \"mae\", \"mse\"])"
   ]
  },
  {
   "cell_type": "code",
   "execution_count": 9,
   "metadata": {},
   "outputs": [
    {
     "name": "stdout",
     "output_type": "stream",
     "text": [
      "Train on 20000 samples\n",
      "Epoch 1/3\n",
      "20000/20000 [==============================] - 92s 5ms/sample - loss: 5.4758 - acc: 0.2613 - mean_absolute_error: 0.8984 - mean_squared_error: 2.9193\n",
      "Epoch 2/3\n",
      "20000/20000 [==============================] - 80s 4ms/sample - loss: 2.8179 - acc: 0.2749 - mean_absolute_error: 1.5502 - mean_squared_error: 6.8608\n",
      "Epoch 3/3\n",
      "20000/20000 [==============================] - 81s 4ms/sample - loss: 2.3245 - acc: 0.2555 - mean_absolute_error: 1.8571 - mean_squared_error: 9.6159\n"
     ]
    }
   ],
   "source": [
    "history = model.fit(x_train, y_train, epochs=3, batch_size=1024).history"
   ]
  },
  {
   "cell_type": "code",
   "execution_count": null,
   "metadata": {},
   "outputs": [],
   "source": []
  },
  {
   "cell_type": "code",
   "execution_count": null,
   "metadata": {},
   "outputs": [],
   "source": []
  },
  {
   "cell_type": "code",
   "execution_count": null,
   "metadata": {},
   "outputs": [],
   "source": []
  },
  {
   "cell_type": "code",
   "execution_count": null,
   "metadata": {},
   "outputs": [],
   "source": []
  },
  {
   "cell_type": "code",
   "execution_count": null,
   "metadata": {},
   "outputs": [],
   "source": [
    "def diff_optimizer(curr_optimizer, model, label=None, curr_epochs=MAX_EPOCHS):\n",
    "    model.compile(loss=\"categorical_crossentropy\", optimizer=curr_optimizer, validation_data=(x_val, y_val),\n",
    "                  metrics=[\"accuracy\", \"mae\", \"mse\"])\n",
    "    history = model.fit(x_train, y_train, epochs=curr_epochs, batch_size=1024).history\n",
    "    score = model.evaluate(x_test, y_test, batch_size=MAX_BATCH_SIZE)\n",
    "    \n",
    "    #Saving the model\n",
    "#     if label == 'RAdam':\n",
    "#         model.save(\"../../saved_models_noisy/{}_{}_{}.hdf5\".format('RAdam', activation_func, architecture))\n",
    "#     else: \n",
    "#         model.save(\"../../saved_models_noisy/{}_{}_{}.hdf5\".format(curr_optimizer, activation_func, architecture))\n",
    "    return score, history"
   ]
  },
  {
   "cell_type": "code",
   "execution_count": null,
   "metadata": {},
   "outputs": [],
   "source": [
    "testing_optimizers = ['NAdam'] #['RAdam', 'Adam', 'NAdam', 'SGD']\n",
    "testing_activations = ['relu']#['tanh', 'relu', 'selu'] #'selu'\n",
    "\n",
    "\n",
    "img_rows, img_cols, img_channels = x_train[0].shape\n",
    "nb_classes = y_test[0].shape[0]\n",
    "\n",
    "for activation in testing_activations:\n",
    "    for optimizer in testing_optimizers:\n",
    "        model = ResNet18((img_rows, img_cols, img_channels), nb_classes, activation)\n",
    "\n",
    "#         if recordsExists((architecture, label, optimizer, activation)):\n",
    "#             print (\"Continuing for Optimizer = {} and Activation = {}\".format(optimizer, activation))\n",
    "#             continue\n",
    "\n",
    "        loss, accuracy, mae, mse = {}, {}, {}, {}\n",
    "        train_loss_dict, train_accuracy_dict, train_mae_dict, train_mse_dict = {}, {}, {}, {}\n",
    "\n",
    "        if optimizer == 'RAdam':\n",
    "            score_returned, history = diff_optimizer(RAdam(lr=0.05), model, label='RAdam')\n",
    "        else:\n",
    "            score_returned, history = diff_optimizer(optimizer, model)\n",
    "\n",
    "        bg = (score_returned[0], score_returned[1], score_returned[2], score_returned[3], history.get('loss'),\\\n",
    "          history.get('accuracy'), history.get('mae'), history.get('mae'))\n",
    "\n",
    "        #Delete Existing Primary Keys and then write to DB\n",
    "        deleteExistingPrimaryKeyDB(optimizer, activation, architecture, label, keywords)\n",
    "        writeToDB(optimizer, activation, architecture, bg, label, keywords)\n",
    "\n",
    "print (\"Completed Execution for architecture={}\".format(architecture))"
   ]
  },
  {
   "cell_type": "code",
   "execution_count": null,
   "metadata": {},
   "outputs": [],
   "source": []
  },
  {
   "cell_type": "code",
   "execution_count": null,
   "metadata": {},
   "outputs": [],
   "source": []
  },
  {
   "cell_type": "code",
   "execution_count": null,
   "metadata": {},
   "outputs": [],
   "source": []
  },
  {
   "cell_type": "code",
   "execution_count": null,
   "metadata": {},
   "outputs": [],
   "source": []
  }
 ],
 "metadata": {
  "kernelspec": {
   "display_name": "Python (cs682)",
   "language": "python",
   "name": "cs682"
  },
  "language_info": {
   "codemirror_mode": {
    "name": "ipython",
    "version": 3
   },
   "file_extension": ".py",
   "mimetype": "text/x-python",
   "name": "python",
   "nbconvert_exporter": "python",
   "pygments_lexer": "ipython3",
   "version": "3.6.9"
  }
 },
 "nbformat": 4,
 "nbformat_minor": 2
}
