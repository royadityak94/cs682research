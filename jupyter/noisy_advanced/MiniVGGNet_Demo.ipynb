{
 "cells": [
  {
   "cell_type": "code",
   "execution_count": 32,
   "metadata": {},
   "outputs": [],
   "source": [
    "import tensorflow as tf\n",
    "from tensorflow.keras.models import Sequential\n",
    "from tensorflow.keras.layers import Dense, Dropout, Conv2D, Conv3D, Flatten, MaxPool2D, AveragePooling2D, BatchNormalization\n",
    "from tensorflow.keras.optimizers import SGD\n",
    "from tensorflow.keras.utils import to_categorical\n",
    "from tensorflow.keras.callbacks import CSVLogger\n",
    "from tensorflow.python.keras import metrics\n",
    "import matplotlib.pyplot as plt\n",
    "from utilities.rectified_adam import RAdam\n",
    "import numpy as np\n",
    "import sys\n",
    "from utilities.pythonDB import writeToDB, deleteExistingPrimaryKeyDB\n",
    "from utilities.data_preprocessors import get_random_data, MetricsAfterEachEpoch\n",
    "from keras import regularizers\n",
    "from keras.constraints import unit_norm"
   ]
  },
  {
   "cell_type": "code",
   "execution_count": 48,
   "metadata": {},
   "outputs": [],
   "source": [
    "global MAX_EPOCHS, MAX_BATCH_SIZE, architecture, label, keywords\n",
    "MAX_EPOCHS, MAX_BATCH_SIZE = 10, 1024\n",
    "architecture = 'ZFNet'\n",
    "label, keywords = 'noisy_bl-experiments_test', 'benchmark_testing'"
   ]
  },
  {
   "cell_type": "code",
   "execution_count": 60,
   "metadata": {},
   "outputs": [
    {
     "name": "stdout",
     "output_type": "stream",
     "text": [
      "Number of Training Samples: X=15000, Y=15000\n",
      "Number of Validation Samples: X=2500, Y=2500\n",
      "Number of Test Samples: X=5000, Y=5000\n"
     ]
    }
   ],
   "source": [
    "MAX_TRAINING = 15000\n",
    "MAX_VALIDATION = 5000\n",
    "MAX_TESTING = 5000\n",
    "\n",
    "base = 'noisy_dataset/noisy/cifar_10_{}.npy'\n",
    "x_train_max, y_train = np.load(base.format('x_train')), np.load(base.format('y_train'))\n",
    "x_test_max, y_test = np.load(base.format('x_test')), np.load(base.format('y_test'))\n",
    "# cifar = tf.keras.datasets.cifar10 \n",
    "# (_, _), (x_test_max, y_test) = cifar.load_data()\n",
    "y_train_max, y_test_max = to_categorical(y_train, num_classes=10), to_categorical(y_test, num_classes=10)\n",
    "\n",
    "train_cutoff = int(x_train_max.shape[0] - MAX_VALIDATION*4)\n",
    "\n",
    "x_train, y_train = get_random_data(x_train_max, y_train_max, 0, train_cutoff, MAX_TRAINING)\n",
    "x_val, y_val = get_random_data(x_test_max, y_test_max, 0, x_test_max.shape[0], int(MAX_TESTING/2))\n",
    "x_test, y_test = get_random_data(x_test_max, y_test_max, 0, x_test_max.shape[0], MAX_TESTING)\n",
    "\n",
    "print (\"Number of Training Samples: X={}, Y={}\".format(x_train.shape[0], y_train.shape[0]))\n",
    "print (\"Number of Validation Samples: X={}, Y={}\".format(x_val.shape[0], y_val.shape[0]))\n",
    "print (\"Number of Test Samples: X={}, Y={}\".format(x_test.shape[0], y_test.shape[0]))"
   ]
  },
  {
   "cell_type": "code",
   "execution_count": 61,
   "metadata": {},
   "outputs": [],
   "source": [
    "def model_extractor(activation_func, weight_decay=5e-4):\n",
    "    model = Sequential()\n",
    "\n",
    "    #Instantiating first set of Layers\n",
    "    model.add(Conv2D(32, kernel_size=(3, 3), activation=activation_func, padding='same', \n",
    "                    kernel_constraint=unit_norm(), kernel_regularizer=regularizers.l2(weight_decay)))\n",
    "    model.add(BatchNormalization())\n",
    "    model.add(Conv2D(32, kernel_size=(3, 3), activation=activation_func, padding='same', \n",
    "                    kernel_regularizer=regularizers.l2(weight_decay)))\n",
    "    model.add(BatchNormalization())\n",
    "    model.add(MaxPool2D(pool_size=(2, 2), strides=(1, 1), name='pool1'))\n",
    "    model.add(Dropout(0.2))\n",
    "\n",
    "    # Instantiating second set of Layers\n",
    "    model.add(Conv2D(64, kernel_size=(3, 3), activation=activation_func, padding='same', \n",
    "                     kernel_regularizer=regularizers.l2(weight_decay)))\n",
    "    model.add(BatchNormalization())\n",
    "    model.add(Conv2D(64, kernel_size=(3, 3), activation=activation_func, padding='same', \n",
    "                    kernel_regularizer=regularizers.l2(weight_decay)))\n",
    "    model.add(BatchNormalization())\n",
    "    model.add(MaxPool2D(pool_size=(2, 2), strides=(1, 1), name='pool2'))\n",
    "    model.add(Dropout(0.2))\n",
    "\n",
    "    # Instantiating set of FCs\n",
    "    model.add(Flatten())\n",
    "    model.add(Dense(512, activation=activation_func)) \n",
    "    model.add(BatchNormalization())\n",
    "    #Output Layer\n",
    "    model.add(Dense(10, activation='softmax'))    \n",
    "    return model"
   ]
  },
  {
   "cell_type": "code",
   "execution_count": 62,
   "metadata": {},
   "outputs": [],
   "source": [
    "def diff_optimizer(curr_optimizer, activation_func, label=None, curr_epochs=MAX_EPOCHS):\n",
    "    model = model_extractor(activation_func)\n",
    "    model.compile(loss=\"categorical_crossentropy\", optimizer=curr_optimizer, validation_data=(x_val, y_val),\n",
    "                  metrics=[\"accuracy\", \"mae\", \"mse\"])\n",
    "    history = model.fit(x_train, y_train, epochs=curr_epochs, batch_size=1024).history\n",
    "    score = model.evaluate(x_test, y_test, batch_size=MAX_BATCH_SIZE)\n",
    "    \n",
    "    #Saving the model\n",
    "#     if label == 'RAdam':\n",
    "#         model.save(\"../../saved_models_noisy/{}_{}_{}.hdf5\".format('RAdam', activation_func, architecture))\n",
    "#     else: \n",
    "#         model.save(\"../../saved_models_noisy/{}_{}_{}.hdf5\".format(curr_optimizer, activation_func, architecture))\n",
    "    return score, history"
   ]
  },
  {
   "cell_type": "code",
   "execution_count": 63,
   "metadata": {},
   "outputs": [
    {
     "name": "stdout",
     "output_type": "stream",
     "text": [
      "Train on 15000 samples\n",
      "Epoch 1/10\n",
      "15000/15000 [==============================] - 193s 13ms/sample - loss: 2.4658 - acc: 0.3917 - mean_absolute_error: 0.1467 - mean_squared_error: 0.0806\n",
      "Epoch 2/10\n",
      "15000/15000 [==============================] - 187s 12ms/sample - loss: 1.6604 - acc: 0.5359 - mean_absolute_error: 0.1262 - mean_squared_error: 0.0619\n",
      "Epoch 3/10\n",
      "15000/15000 [==============================] - 187s 12ms/sample - loss: 1.4326 - acc: 0.5897 - mean_absolute_error: 0.1136 - mean_squared_error: 0.0549\n",
      "Epoch 4/10\n",
      "15000/15000 [==============================] - 189s 13ms/sample - loss: 1.2557 - acc: 0.6322 - mean_absolute_error: 0.1027 - mean_squared_error: 0.0493\n",
      "Epoch 5/10\n",
      "15000/15000 [==============================] - 187s 12ms/sample - loss: 1.1074 - acc: 0.6775 - mean_absolute_error: 0.0916 - mean_squared_error: 0.0438\n",
      "Epoch 6/10\n",
      "15000/15000 [==============================] - 201s 13ms/sample - loss: 1.0024 - acc: 0.7127 - mean_absolute_error: 0.0835 - mean_squared_error: 0.0396\n",
      "Epoch 7/10\n",
      "15000/15000 [==============================] - 188s 13ms/sample - loss: 0.8881 - acc: 0.7571 - mean_absolute_error: 0.0746 - mean_squared_error: 0.0342\n",
      "Epoch 8/10\n",
      "15000/15000 [==============================] - 210s 14ms/sample - loss: 0.7888 - acc: 0.7913 - mean_absolute_error: 0.0662 - mean_squared_error: 0.0296\n",
      "Epoch 9/10\n",
      "15000/15000 [==============================] - 185s 12ms/sample - loss: 0.7046 - acc: 0.8277 - mean_absolute_error: 0.0582 - mean_squared_error: 0.0252\n",
      "Epoch 10/10\n",
      "15000/15000 [==============================] - 193s 13ms/sample - loss: 0.6192 - acc: 0.8607 - mean_absolute_error: 0.0501 - mean_squared_error: 0.0208\n",
      "5000/5000 [==============================] - 16s 3ms/sample - loss: 4.1146 - acc: 0.2388 - mean_absolute_error: 0.1492 - mean_squared_error: 0.1334\n",
      "Successfully deleted the existing primary key...\n",
      "Successfully written to the database...\n",
      "Completed Execution for architecture=ZFNet\n"
     ]
    }
   ],
   "source": [
    "testing_optimizers = ['Adam'] #['RAdam', 'Adam', 'NAdam', 'SGD']\n",
    "testing_activations = ['relu']#['tanh', 'relu', 'selu'] #'selu'\n",
    "\n",
    "\n",
    "for optimizer in testing_optimizers:\n",
    "    for activation in testing_activations:\n",
    "        loss, accuracy, mae, mse = {}, {}, {}, {}\n",
    "        train_loss_dict, train_accuracy_dict, train_mae_dict, train_mse_dict = {}, {}, {}, {}\n",
    "\n",
    "        if optimizer == 'RAdam':\n",
    "            score_returned, history = diff_optimizer(RAdam(lr=0.05), activation, label='RAdam')\n",
    "        else:\n",
    "            score_returned, history = diff_optimizer(optimizer, activation)\n",
    "\n",
    "        bg = (score_returned[0], score_returned[1], score_returned[2], score_returned[3], history.get('loss'),\\\n",
    "          history.get('accuracy'), history.get('mae'), history.get('mae'))\n",
    "\n",
    "        #Delete Existing Primary Keys and then write to DB\n",
    "        deleteExistingPrimaryKeyDB(optimizer, activation, architecture, label, keywords)\n",
    "        writeToDB(optimizer, activation, architecture, bg, label, keywords)\n",
    "\n",
    "print (\"Completed Execution for architecture={}\".format(architecture))"
   ]
  },
  {
   "cell_type": "code",
   "execution_count": null,
   "metadata": {},
   "outputs": [],
   "source": [
    "# Baseline - 50.02% (75.16%)%"
   ]
  },
  {
   "cell_type": "code",
   "execution_count": null,
   "metadata": {},
   "outputs": [],
   "source": []
  },
  {
   "cell_type": "code",
   "execution_count": null,
   "metadata": {},
   "outputs": [],
   "source": [
    "#keras.callbacks.callbacks.EarlyStopping(monitor='val_loss', min_delta=0, patience=0, verbose=0, mode='auto', baseline=None, restore_best_weights=False)\n",
    "\n"
   ]
  },
  {
   "cell_type": "code",
   "execution_count": null,
   "metadata": {},
   "outputs": [],
   "source": []
  }
 ],
 "metadata": {
  "kernelspec": {
   "display_name": "Python (cs682)",
   "language": "python",
   "name": "cs682"
  },
  "language_info": {
   "codemirror_mode": {
    "name": "ipython",
    "version": 3
   },
   "file_extension": ".py",
   "mimetype": "text/x-python",
   "name": "python",
   "nbconvert_exporter": "python",
   "pygments_lexer": "ipython3",
   "version": "3.6.9"
  }
 },
 "nbformat": 4,
 "nbformat_minor": 2
}
