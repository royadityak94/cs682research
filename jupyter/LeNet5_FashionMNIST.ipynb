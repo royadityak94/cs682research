{
 "cells": [
  {
   "cell_type": "code",
   "execution_count": 69,
   "metadata": {},
   "outputs": [],
   "source": [
    "import tensorflow as tf\n",
    "from tensorflow.keras.models import Sequential\n",
    "from tensorflow.keras.layers import Dense, Dropout, Conv2D, Conv3D, Flatten, MaxPool2D, MaxPooling2D, AveragePooling2D, Conv1D, AveragePooling1D\n",
    "from tensorflow.keras.optimizers import SGD\n",
    "from tensorflow.keras.utils import to_categorical\n",
    "from tensorflow.keras.callbacks import CSVLogger\n",
    "from tensorflow.python.keras import metrics\n",
    "import matplotlib.pyplot as plt\n",
    "from rectified_adam import RAdam\n",
    "import numpy as np\n",
    "import sys\n",
    "from utilities.pythonDB import writeToDB, deleteExistingPrimaryKeyDB\n",
    "%matplotlib inline"
   ]
  },
  {
   "cell_type": "code",
   "execution_count": 70,
   "metadata": {},
   "outputs": [],
   "source": [
    "def get_random_data(data1, data2, low, high, max_samples=100):\n",
    "    _, H1, W1 = data1.shape\n",
    "    N, C = data2.shape\n",
    "    suff_data1 = np.zeros((max_samples, H1, W1))\n",
    "    suff_data2 = np.zeros((max_samples, C))\n",
    "    shuffles = np.random.randint(low, high+1, max_samples)\n",
    "    for idx in range(shuffles.shape[0]):\n",
    "        suff_data1[idx] = data1[idx, :, :]\n",
    "        suff_data2[idx] = data2[idx]\n",
    "    return suff_data1, suff_data2"
   ]
  },
  {
   "cell_type": "code",
   "execution_count": 71,
   "metadata": {},
   "outputs": [],
   "source": [
    "MAX_TRAINING = 5000\n",
    "MAX_VALIDATION = 2000\n",
    "MAX_TESTING = 2000\n",
    "correct_class = {0: \"T-shirt/top\", 1: \"Trouser\", 2: \"Pullover\", 3: \"Dress\", 4: \"Coat\", 5: \"Sandal\", \\\n",
    "                  6: \"Shirt\", 7: \"Sneaker\", 8: \"Bag\", 9: \"Ankle boot\"}"
   ]
  },
  {
   "cell_type": "code",
   "execution_count": 72,
   "metadata": {},
   "outputs": [
    {
     "name": "stdout",
     "output_type": "stream",
     "text": [
      "Number of Training Samples: X=500, Y=500\n",
      "Number of Validation Samples: X=100, Y=100\n",
      "Number of Test Samples: X=100, Y=100\n"
     ]
    }
   ],
   "source": [
    "#Loading Fashion-MNIST dataset\n",
    "fashion_mnist = tf.keras.datasets.fashion_mnist \n",
    "(x_train, y_train), (x_test, y_test) = fashion_mnist.load_data()\n",
    "\n",
    "# Keeping the data between 0 and 1\n",
    "x_train_max, x_test_max = x_train / 255.0, x_test / 255.0\n",
    "y_train_max = to_categorical(y_train, num_classes=10)\n",
    "y_test_max = to_categorical(y_test, num_classes=10)\n",
    "\n",
    "train_cutoff = int(x_train_max.shape[0] - MAX_VALIDATION*1.5)\n",
    "\n",
    "x_train, y_train = get_random_data(x_train_max, y_train_max, 0, train_cutoff, MAX_TRAINING)\n",
    "x_val, y_val = get_random_data(x_train_max, y_train_max, train_cutoff+1, x_train_max.shape[0], MAX_VALIDATION)\n",
    "x_test, y_test = get_random_data(x_test_max, y_test_max, 0, x_test_max.shape[0], MAX_TESTING)\n",
    "\n",
    "# x_train = np.expand_dims(x_train, axis=1)\n",
    "# y_train = np.expand_dims(y_train, axis=1)\n",
    "# x_val = np.expand_dims(x_val, axis=1)\n",
    "# y_val = np.expand_dims(x_val, axis=1)\n",
    "# x_test = np.expand_dims(x_test, axis=1)\n",
    "# y_test = np.expand_dims(y_test, axis=1)\n",
    "\n",
    "x_train = x_train[..., np.newaxis]\n",
    "y_train = y_train[..., np.newaxis]\n",
    "x_val = x_val[..., np.newaxis]\n",
    "y_val = y_val[..., np.newaxis]\n",
    "x_test = x_test[..., np.newaxis]\n",
    "y_test = y_test [..., np.newaxis]\n",
    "\n",
    "print (\"Number of Training Samples: X={}, Y={}\".format(x_train.shape[0], y_train.shape[0]))\n",
    "print (\"Number of Validation Samples: X={}, Y={}\".format(x_val.shape[0], y_val.shape[0]))\n",
    "print (\"Number of Test Samples: X={}, Y={}\".format(x_test.shape[0], y_test.shape[0]))"
   ]
  },
  {
   "cell_type": "code",
   "execution_count": 73,
   "metadata": {},
   "outputs": [
    {
     "data": {
      "text/plain": [
       "(500, 28, 28, 1)"
      ]
     },
     "execution_count": 73,
     "metadata": {},
     "output_type": "execute_result"
    }
   ],
   "source": [
    "x_train.shape"
   ]
  },
  {
   "cell_type": "code",
   "execution_count": 74,
   "metadata": {},
   "outputs": [],
   "source": [
    "class MetricsAfterEachEpoch(tf.keras.callbacks.Callback):\n",
    "    def on_train_begin(self, scores={}):\n",
    "        self.loss, self.accuracy, self.mae, self.mse = [], [], [], []\n",
    "    def on_train_end(self, logs={}):\n",
    "        return self.loss, self.accuracy, self.mae, self.loss\n",
    "    def on_epoch_end(self, epoch, scores):\n",
    "        self.loss.append(scores.get('loss'))\n",
    "        self.accuracy.append(scores.get('acc'))\n",
    "        self.mae.append(scores.get('mean_absolute_error'))\n",
    "        self.loss.append(scores.get('mean_squared_error'))\n",
    "        return"
   ]
  },
  {
   "cell_type": "code",
   "execution_count": 75,
   "metadata": {},
   "outputs": [],
   "source": [
    "def LeNet5Classifier(activation_func):\n",
    "    # Creating a LeNet5 Classifier\n",
    "    model = Sequential()\n",
    "\n",
    "    #Instantiating Layer 1\n",
    "    model.add(Conv2D(20, kernel_size=(5, 5), strides=(1, 1), activation=activation_func, padding='valid'))\n",
    "    model.add(AveragePooling2D(pool_size=(2, 2), strides=(1, 1), name='pool1'))\n",
    "\n",
    "    # #Instantiating Layer 2\n",
    "    model.add(Conv2D(50, kernel_size=(5, 5), strides=(1, 1), activation=activation_func, padding='valid'))\n",
    "    model.add(MaxPool2D(pool_size=(2, 2), strides=(2, 2), name='pool2'))\n",
    "\n",
    "    # #Instantiating Layer 3\n",
    "    model.add(Conv2D(120, kernel_size=(5, 5), strides=(1, 1), activation=activation_func, padding='valid'))\n",
    "\n",
    "    model.add(Flatten())\n",
    "\n",
    "    #Instantiating Layer 4\n",
    "    model.add(Dense(500, activation=activation_func)) \n",
    "\n",
    "    #Output Layer\n",
    "    model.add(Dense(10, activation='softmax'))\n",
    "    return model"
   ]
  },
  {
   "cell_type": "code",
   "execution_count": 76,
   "metadata": {},
   "outputs": [],
   "source": [
    "def LeNet5Evaluator(curr_optimizer, activation_func, label=None, curr_epochs=15, saveModel=False):\n",
    "    model = LeNet5Classifier(activation_func)\n",
    "    model.compile(loss=\"categorical_crossentropy\", optimizer=curr_optimizer, validation_data=(x_val, y_val),\n",
    "                  metrics=[\"accuracy\", \"mae\", \"mse\"])\n",
    "    history = model.fit(x_train, y_train, epochs=curr_epochs, callbacks=[MetricsAfterEachEpoch()], batch_size=2048).history\n",
    "    score = model.evaluate(x_test, y_test, batch_size=512)\n",
    "    #Saving the model\n",
    "    if (saveModel): \n",
    "        if label == 'RAdam':\n",
    "            model.save(\"../saved_models/{}_{}_{}.hdf5\".format('RAdam', activation_func, \"LeNet5\"))\n",
    "        else: \n",
    "            model.save(\"../saved_models/{}_{}_{}.hdf5\".format(curr_optimizer, activation_func, \"LeNet5\"))\n",
    "    return score, history"
   ]
  },
  {
   "cell_type": "code",
   "execution_count": null,
   "metadata": {},
   "outputs": [
    {
     "name": "stdout",
     "output_type": "stream",
     "text": [
      "Train on 500 samples\n",
      "Epoch 1/15\n",
      "500/500 [==============================] - 5s 10ms/sample - loss: 2.3153 - accuracy: 0.1340 - mae: 0.1800 - mse: 0.0903\n",
      "Epoch 2/15\n",
      "500/500 [==============================] - 1s 1ms/sample - loss: 2.3145 - accuracy: 0.1340 - mae: 0.1800 - mse: 0.0902\n",
      "Epoch 3/15\n",
      "500/500 [==============================] - 1s 2ms/sample - loss: 2.3137 - accuracy: 0.1340 - mae: 0.1800 - mse: 0.0902\n",
      "Epoch 4/15\n",
      "500/500 [==============================] - 1s 2ms/sample - loss: 2.3129 - accuracy: 0.1360 - mae: 0.1800 - mse: 0.0902\n",
      "Epoch 5/15\n",
      "500/500 [==============================] - 1s 2ms/sample - loss: 2.3121 - accuracy: 0.1360 - mae: 0.1800 - mse: 0.0902\n",
      "Epoch 6/15\n",
      "500/500 [==============================] - 1s 2ms/sample - loss: 2.3113 - accuracy: 0.1380 - mae: 0.1800 - mse: 0.0902\n",
      "Epoch 7/15\n",
      "500/500 [==============================] - 1s 2ms/sample - loss: 2.2999 - accuracy: 0.1520 - mae: 0.1798 - mse: 0.0899\n",
      "Epoch 8/15\n",
      "500/500 [==============================] - 1s 1ms/sample - loss: 2.2858 - accuracy: 0.1620 - mae: 0.1795 - mse: 0.0897\n",
      "Epoch 9/15\n",
      "500/500 [==============================] - 1s 2ms/sample - loss: 2.2700 - accuracy: 0.1680 - mae: 0.1792 - mse: 0.0894\n",
      "Epoch 10/15\n",
      "500/500 [==============================] - 1s 2ms/sample - loss: 2.2527 - accuracy: 0.1740 - mae: 0.1789 - mse: 0.0890\n",
      "Epoch 11/15\n",
      "500/500 [==============================] - 1s 2ms/sample - loss: 2.2344 - accuracy: 0.2040 - mae: 0.1785 - mse: 0.0886\n",
      "Epoch 12/15\n",
      "500/500 [==============================] - 1s 1ms/sample - loss: 2.2154 - accuracy: 0.2920 - mae: 0.1781 - mse: 0.0883\n",
      "Epoch 13/15\n",
      "500/500 [==============================] - 1s 1ms/sample - loss: 2.1957 - accuracy: 0.3640 - mae: 0.1776 - mse: 0.0878\n",
      "Epoch 14/15\n",
      "500/500 [==============================] - 1s 2ms/sample - loss: 2.1754 - accuracy: 0.3420 - mae: 0.1771 - mse: 0.0874\n",
      "Epoch 15/15\n",
      "500/500 [==============================] - 1s 2ms/sample - loss: 2.1545 - accuracy: 0.3420 - mae: 0.1766 - mse: 0.0870\n",
      "100/1 [========================================================================================================================================================================================================================================================================================================================================================================================================================================================================================================================================================================================================================================================================================================================================================================================================================================================================================================================================================================================================================================================================================================================================================================================================================================================================================================================================================================================================================================================================================================================================================================================================================================================================================================================================================================================================================================================================================================================================================================================================================================================================================================================================================================================================================================================================================================================================================================================================================================================================================================================================================================================================================================================================================================================================================================================================================================================================================================================================================================================================================================================================================================================] - 0s 3ms/sample - loss: 2.1373 - accuracy: 0.3600 - mae: 0.1761 - mse: 0.0866\n",
      "Train on 500 samples\n",
      "Epoch 1/15\n",
      "500/500 [==============================] - 5s 10ms/sample - loss: 2.3045 - accuracy: 0.0340 - mae: 0.1800 - mse: 0.0900\n",
      "Epoch 2/15\n",
      "500/500 [==============================] - 1s 2ms/sample - loss: 2.3044 - accuracy: 0.0360 - mae: 0.1800 - mse: 0.0900\n",
      "Epoch 3/15\n",
      "500/500 [==============================] - 1s 2ms/sample - loss: 2.3044 - accuracy: 0.0360 - mae: 0.1800 - mse: 0.0900\n",
      "Epoch 4/15\n",
      "500/500 [==============================] - 1s 1ms/sample - loss: 2.3043 - accuracy: 0.0360 - mae: 0.1800 - mse: 0.0900\n",
      "Epoch 5/15\n",
      "500/500 [==============================] - 1s 2ms/sample - loss: 2.3043 - accuracy: 0.0360 - mae: 0.1800 - mse: 0.0900\n",
      "Epoch 6/15\n",
      "500/500 [==============================] - 1s 2ms/sample - loss: 2.3043 - accuracy: 0.0360 - mae: 0.1800 - mse: 0.0900\n",
      "Epoch 7/15\n",
      "500/500 [==============================] - 1s 2ms/sample - loss: 2.3027 - accuracy: 0.0520 - mae: 0.1800 - mse: 0.0900\n",
      "Epoch 8/15\n",
      "500/500 [==============================] - 1s 1ms/sample - loss: 2.3008 - accuracy: 0.0680 - mae: 0.1800 - mse: 0.0900\n",
      "Epoch 9/15\n"
     ]
    }
   ],
   "source": [
    "testing_optimizers = ['RAdam', 'Adam', 'NAdam', 'SGD']\n",
    "testing_activations = ['tanh', 'relu']\n",
    "\n",
    "for optimizer in testing_optimizers:\n",
    "    for activation in testing_activations:\n",
    "        loss, accuracy, mae, mse = {}, {}, {}, {}\n",
    "        train_loss_dict, train_accuracy_dict, train_mae_dict, train_mse_dict = {}, {}, {}, {}\n",
    "        \n",
    "        if optimizer == 'RAdam':\n",
    "            score_returned, history = LeNet5Evaluator(RAdam(lr=0.0005), activation, label='RAdam')\n",
    "        else:\n",
    "            score_returned, history = LeNet5Evaluator(optimizer, activation)\n",
    "        \n",
    "        #Test Side Stats\n",
    "        loss[(optimizer, activation)] = score_returned[0]\n",
    "        accuracy[(optimizer, activation)] = score_returned[1]\n",
    "        mae[(optimizer, activation)] = score_returned[2]\n",
    "        mse[(optimizer, activation)] = score_returned[3]\n",
    "        \n",
    "        #Training Side Stats\n",
    "        train_loss_dict[(optimizer, activation)] = history.get('loss')\n",
    "        train_accuracy_dict[(optimizer, activation)] = history.get('acc')\n",
    "        train_mae_dict[(optimizer, activation)] = history.get('mean_absolute_error')\n",
    "        train_mse_dict[(optimizer, activation)] = history.get('mean_squared_error')\n",
    "        \n",
    "        bg = (loss, accuracy, mae, mse, train_loss_dict, train_accuracy_dict, train_mae_dict, train_mse_dict)\n",
    "        #Delete Existing Primary Keys and then write to DB\n",
    "        #deleteExistingPrimaryKeyDB(optimizer, activation, 'LeNet5', 'milestone-experiments', 'benchmark_testing')\n",
    "        #writeToDB(optimizer, activation, 'LeNet5', bg, 'milestone-experiments', 'benchmark_testing')"
   ]
  },
  {
   "cell_type": "code",
   "execution_count": null,
   "metadata": {},
   "outputs": [],
   "source": [
    "print (\"Final: Loss={}, Accuracy={}\".format(loss, accuracy))"
   ]
  }
 ],
 "metadata": {
  "kernelspec": {
   "display_name": "cs682",
   "language": "python",
   "name": "cs682"
  },
  "language_info": {
   "codemirror_mode": {
    "name": "ipython",
    "version": 3
   },
   "file_extension": ".py",
   "mimetype": "text/x-python",
   "name": "python",
   "nbconvert_exporter": "python",
   "pygments_lexer": "ipython3",
   "version": "3.6.9"
  }
 },
 "nbformat": 4,
 "nbformat_minor": 2
}
