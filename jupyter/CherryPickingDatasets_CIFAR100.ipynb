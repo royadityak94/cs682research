{
 "cells": [
  {
   "cell_type": "code",
   "execution_count": 1,
   "metadata": {},
   "outputs": [
    {
     "name": "stderr",
     "output_type": "stream",
     "text": [
      "Using TensorFlow backend.\n"
     ]
    }
   ],
   "source": [
    "import tensorflow as tf\n",
    "from tensorflow.keras.models import Sequential\n",
    "from tensorflow.keras.layers import Dense, Dropout, Conv2D, Conv3D, Flatten, MaxPool2D, AveragePooling2D\n",
    "from tensorflow.keras.optimizers import SGD\n",
    "from tensorflow.keras.utils import to_categorical\n",
    "from tensorflow.keras.callbacks import CSVLogger\n",
    "from tensorflow.python.keras import metrics\n",
    "import matplotlib.pyplot as plt\n",
    "from utilities.rectified_adam import RAdam\n",
    "import numpy as np\n",
    "import sys\n",
    "from utilities.pythonDB import writeToDB, deleteExistingPrimaryKeyDB\n",
    "from utilities.resnet import ResNet18, ResNet34\n",
    "%matplotlib inline"
   ]
  },
  {
   "cell_type": "code",
   "execution_count": 2,
   "metadata": {},
   "outputs": [],
   "source": [
    "def get_random_data(data1, data2, low, high, max_samples=100):\n",
    "    _, H1, W1, C1 = data1.shape\n",
    "    _, N = data2.shape\n",
    "    suff_data1 = np.zeros((max_samples, H1, W1, C1))\n",
    "    suff_data2 = np.zeros((max_samples, N))\n",
    "    shuffles = np.random.randint(low, high+1, max_samples)\n",
    "    for idx in range(shuffles.shape[0]):\n",
    "        suff_data1[idx] = data1[idx, :, :, :]\n",
    "        suff_data2[idx] = data2[idx, :]\n",
    "    return suff_data1, suff_data2"
   ]
  },
  {
   "cell_type": "code",
   "execution_count": 3,
   "metadata": {},
   "outputs": [],
   "source": [
    "MAX_TRAINING = 25000\n",
    "MAX_VALIDATION = 5000\n",
    "MAX_TESTING = 4000\n",
    "correct_class = {0 : 'airplane', 1 : 'automobile', 2 : 'bird', 3 : 'cat', 4 : 'deer', \\\n",
    "                 5 : 'dog', 6 : 'frog', 7 : 'horse', 8 : 'ship', 9 : 'truck'}"
   ]
  },
  {
   "cell_type": "code",
   "execution_count": 4,
   "metadata": {},
   "outputs": [],
   "source": [
    "def fetch_selected_data(x_data, y_data):\n",
    "    new_x_data, new_y_data = np.zeros_like(x_data), np.zeros_like(y_data)\n",
    "    keep_list = [13, 58, 81, 89]\n",
    "    curr_x, curr_y = 0, 0\n",
    "    for i in range(y_data.shape[0]):\n",
    "        idx = y_data[i][0]\n",
    "        if idx not in keep_list:\n",
    "            continue\n",
    "        # Automobiles\n",
    "        if idx in [13, 81, 89]:\n",
    "            new_x_data[curr_x], new_y_data[curr_y]  = x_data[i], np.array([1])\n",
    "        # Truck\n",
    "        else:\n",
    "            new_x_data[curr_x], new_y_data[curr_y]  = x_data[i], np.array([9])\n",
    "        curr_x, curr_y = curr_x+1, curr_y+1\n",
    "    return new_x_data[:curr_x], new_y_data[:curr_y]  "
   ]
  },
  {
   "cell_type": "code",
   "execution_count": 5,
   "metadata": {},
   "outputs": [],
   "source": [
    "#Loading CIFAR-10 dataset\n",
    "cifar = tf.keras.datasets.cifar100\n",
    "(x_train_o, y_train_o), (x_test_o, y_test_o) = cifar.load_data()\n",
    "\n",
    "x_train1, y_train1 = fetch_selected_data(x_train_o, y_train_o)\n",
    "x_test1, y_test1 = fetch_selected_data(x_test_o, y_test_o)\n",
    "x_train, y_train = np.concatenate((x_train1, x_test1), axis=0), np.concatenate((y_train1, y_test1), axis=0)"
   ]
  },
  {
   "cell_type": "code",
   "execution_count": 2,
   "metadata": {},
   "outputs": [],
   "source": [
    "from utilities.data_preprocessors import flip_vertical_np, flip_horizontal_np, rotate_np, flip_rotate, \\\n",
    "perform_swirl_transformation, perform_random_affine_transform, mixed_transformations, add_gaussian_noise, add_sp_noise, \\\n",
    "add_poisson_noise, add_multiplicative_noise, random_image_eraser, correct_low_visibility, gamma_correction\n",
    "\n",
    "class TransformDataset(object):\n",
    "    def scale(self, X, x_min=0, x_max=1):\n",
    "        nom = (X-X.min(axis=0))*(x_max-x_min)\n",
    "        denom = X.max(axis=0) - X.min(axis=0)\n",
    "        denom[denom==0] = 1\n",
    "        X_new = x_min + nom/denom\n",
    "        return (X_new*255).astype(np.uint8)\n",
    "    def return_function(self, name, im):\n",
    "        return getattr(self, 'if_' + name)(im)\n",
    "    def if_flip_vertical_np(self, im):\n",
    "        return self.scale(flip_vertical_np(im))\n",
    "    def if_flip_horizontal_np(self, im):\n",
    "        return self.scale(flip_horizontal_np(im))\n",
    "    def if_rotate_np(self, im):\n",
    "        return self.scale(rotate_np(im))\n",
    "    def if_flip_rotate(self, im):\n",
    "        return self.scale(flip_rotate(im))\n",
    "    def if_perform_swirl_transformation(self, im):\n",
    "        return self.scale(perform_swirl_transformation(im))\n",
    "    def if_perform_random_affine_transform(self, im):\n",
    "        return self.scale(perform_random_affine_transform(im))\n",
    "    def if_mixed_transformations(self, im):\n",
    "        return self.scale(mixed_transformations(im))\n",
    "    def if_add_gaussian_noise(self, im):\n",
    "        return self.scale(add_gaussian_noise(im))\n",
    "    def if_add_sp_noise(self, im):\n",
    "        return self.scale(add_sp_noise(im))\n",
    "    def if_add_poisson_noise(self, im):\n",
    "        return self.scale(add_poisson_noise(im))\n",
    "    def if_add_multiplicative_noise(self, im):\n",
    "        return self.scale(add_multiplicative_noise(im))\n",
    "    def if_random_image_eraser(self, im):\n",
    "        return self.scale(random_image_eraser(im))\n",
    "    def if_correct_low_visibility(self, im):\n",
    "        return self.scale(correct_low_visibility(im))\n",
    "    def if_gamma_correction(self, im):\n",
    "        return self.scale(gamma_correction(im))\n",
    "\n",
    "def get_random_shuffle_set(data1, data2, ratios=None):\n",
    "    if ratios is None:\n",
    "        ratios = {\"flip_vertical_np\":.1, 'flip_horizontal_np':.1, 'rotate_np':.15, 'flip_rotate':.2, \\\n",
    "                  'perform_swirl_transformation':.1, 'perform_random_affine_transform':.15, 'mixed_transformations':.2}\n",
    "    _, H1, W1, C1 = data1.shape\n",
    "    N, _ = data2.shape\n",
    "    shuffles = np.random.randint(0, N, N)\n",
    "    low = 0\n",
    "    x_train_ret, y_train_ret, img_idx  = np.zeros((N, H1, W1, C1)), np.zeros((N, 1)), 0\n",
    "\n",
    "    for key in ratios.keys():\n",
    "        high = int(ratios.get(key) * N)\n",
    "        data = shuffles[low:low+high]\n",
    "        low += high\n",
    "        for idxs in data:\n",
    "            x_train_ret[img_idx] = TransformDataset().return_function(key, data1[idxs])\n",
    "            y_train_ret[img_idx] = data2[idxs]\n",
    "            img_idx += 1\n",
    "    return x_train_ret, y_train_ret"
   ]
  },
  {
   "cell_type": "code",
   "execution_count": 8,
   "metadata": {},
   "outputs": [],
   "source": [
    "ratio1 = {\"flip_rotate\": 0.20, \"rotate_np\":0.20, \"mixed_transformations\":.20, 'perform_random_affine_transform':.4}\n",
    "ratio2 = {\"flip_vertical_np\": 0.2, \"flip_horizontal_np\": 0.2, \"rotate_np\":.3, 'flip_rotate':.3}\n",
    "ratio3 = {'perform_random_affine_transform': .4, 'perform_swirl_transformation': .4, 'flip_rotate': .2}\n",
    "\n",
    "x_train_ret1, y_train_ret1 = get_random_shuffle_set(x_train, y_train, ratio1)\n",
    "x_train_ret2, y_train_ret2 = get_random_shuffle_set(x_train, y_train, ratio2)\n",
    "x_train_ret3, y_train_ret3 = get_random_shuffle_set(x_train, y_train, ratio3)\n",
    "\n",
    "\n",
    "final_x_train = np.concatenate((x_train, x_train_ret1, x_train_ret2, x_train_ret3), axis=0)\n",
    "final_y_train = np.concatenate((y_train, y_train_ret1, y_train_ret2, y_train_ret3), axis=0)\n",
    "\n",
    "np.save('../saved_numpy_data/cifar100_augmented_x_train.npy', final_x_train)\n",
    "np.save('../saved_numpy_data/cifar100_augmented_y_train.npy', final_y_train)"
   ]
  }
 ],
 "metadata": {
  "kernelspec": {
   "display_name": "cs682",
   "language": "python",
   "name": "cs682"
  },
  "language_info": {
   "codemirror_mode": {
    "name": "ipython",
    "version": 3
   },
   "file_extension": ".py",
   "mimetype": "text/x-python",
   "name": "python",
   "nbconvert_exporter": "python",
   "pygments_lexer": "ipython3",
   "version": "3.6.9"
  }
 },
 "nbformat": 4,
 "nbformat_minor": 2
}
