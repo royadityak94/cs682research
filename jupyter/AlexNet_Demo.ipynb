{
 "cells": [
  {
   "cell_type": "code",
   "execution_count": 1,
   "metadata": {},
   "outputs": [],
   "source": [
    "import tensorflow as tf\n",
    "from tensorflow.keras.models import Sequential\n",
    "from tensorflow.keras.layers import Dense, Dropout, Conv2D, Conv3D, Flatten, MaxPool2D\n",
    "from tensorflow.keras.optimizers import SGD\n",
    "from tensorflow.keras.utils import to_categorical\n",
    "from tensorflow.keras.callbacks import CSVLogger\n",
    "from tensorflow.python.keras import metrics\n",
    "import matplotlib.pyplot as plt\n",
    "from rectified_adam import RAdam\n",
    "import numpy as np\n",
    "import sys\n",
    "from utilities.pythonDB import writeToDB, deleteExistingPrimaryKeyDB\n",
    "%matplotlib inline"
   ]
  },
  {
   "cell_type": "code",
   "execution_count": 2,
   "metadata": {
    "collapsed": true
   },
   "outputs": [],
   "source": [
    "def get_random_data(data1, data2, low, high, max_samples=100):\n",
    "    _, H1, W1, C1 = data1.shape\n",
    "    _, N = data2.shape\n",
    "    suff_data1 = np.zeros((max_samples, H1, W1, C1))\n",
    "    suff_data2 = np.zeros((max_samples, N))\n",
    "    shuffles = np.random.randint(low, high+1, max_samples)\n",
    "    for idx in range(shuffles.shape[0]):\n",
    "        suff_data1[idx] = data1[idx, :, :, :]\n",
    "        suff_data2[idx] = data2[idx, :]\n",
    "    return suff_data1, suff_data2"
   ]
  },
  {
   "cell_type": "code",
   "execution_count": 3,
   "metadata": {
    "collapsed": true
   },
   "outputs": [],
   "source": [
    "MAX_TRAINING = 10000\n",
    "MAX_VALIDATION = 2000\n",
    "MAX_TESTING = 2000\n",
    "correct_class = {1 : 'airplane', 2 : 'automobile', 3 : 'bird', 4 : 'cat', 5 : \\\n",
    "                 'deer', 6 : 'dog', 7 : 'frog', 8 : 'horse', 9 : 'ship', 10 : 'truck'}"
   ]
  },
  {
   "cell_type": "code",
   "execution_count": 4,
   "metadata": {},
   "outputs": [
    {
     "name": "stdout",
     "output_type": "stream",
     "text": [
      "Number of Training Samples: X=10000, Y=10000\n",
      "Number of Validation Samples: X=2000, Y=2000\n",
      "Number of Test Samples: X=2000, Y=2000\n"
     ]
    }
   ],
   "source": [
    "#Loading CIFAR-10 dataset\n",
    "cifar = tf.keras.datasets.cifar10 \n",
    "(x_train, y_train), (x_test, y_test) = cifar.load_data()\n",
    "\n",
    "# Keeping the data between 0 and 1\n",
    "x_train_max, x_test_max = x_train / 255.0, x_test / 255.0\n",
    "y_train_max = to_categorical(y_train, num_classes=10)\n",
    "y_test_max = to_categorical(y_test, num_classes=10)\n",
    "\n",
    "x_train, y_train = get_random_data(x_train_max, y_train_max, 0, MAX_TRAINING*3, MAX_TRAINING)\n",
    "x_val, y_val = get_random_data(x_train_max, y_train_max, MAX_TRAINING*3+1, x_train_max.shape[0], MAX_VALIDATION)\n",
    "x_test, y_test = get_random_data(x_test_max, y_test_max, 0, x_test_max.shape[0], MAX_TESTING)\n",
    "\n",
    "print (\"Number of Training Samples: X={}, Y={}\".format(x_train.shape[0], y_train.shape[0]))\n",
    "print (\"Number of Validation Samples: X={}, Y={}\".format(x_val.shape[0], y_val.shape[0]))\n",
    "print (\"Number of Test Samples: X={}, Y={}\".format(x_test.shape[0], y_test.shape[0]))"
   ]
  },
  {
   "cell_type": "code",
   "execution_count": 5,
   "metadata": {
    "collapsed": true
   },
   "outputs": [],
   "source": [
    "class MetricsAfterEachEpoch(tf.keras.callbacks.Callback):\n",
    "    def on_train_begin(self, scores={}):\n",
    "        self.loss, self.accuracy, self.mae, self.mse = [], [], [], []\n",
    "    def on_train_end(self, logs={}):\n",
    "        return self.loss, self.accuracy, self.mae, self.loss\n",
    "    def on_epoch_end(self, epoch, scores):\n",
    "        self.loss.append(scores.get('loss'))\n",
    "        self.accuracy.append(scores.get('acc'))\n",
    "        self.mae.append(scores.get('mean_absolute_error'))\n",
    "        self.loss.append(scores.get('mean_squared_error'))\n",
    "        return"
   ]
  },
  {
   "cell_type": "code",
   "execution_count": 6,
   "metadata": {
    "collapsed": true
   },
   "outputs": [],
   "source": [
    "def model_extractor(activation_func):\n",
    "    # Creating an AlexNet Classifier\n",
    "    model = Sequential()\n",
    "\n",
    "    #Instantiating Layer 1\n",
    "    model.add(Conv2D(48, kernel_size=(3, 3), strides=(1, 1), activation=activation_func, padding='valid'))\n",
    "    model.add(MaxPool2D(pool_size=(2, 2), strides=(2, 2)))\n",
    "\n",
    "    # #Instantiating Layer 2\n",
    "    model.add(Conv2D(96, kernel_size=(3, 3), strides=(1, 1), activation=activation_func, padding='same'))\n",
    "    model.add(MaxPool2D(pool_size=(3, 3), strides=(2, 2)))\n",
    "\n",
    "    # #Instantiating Layer 3\n",
    "    model.add(Conv2D(192, kernel_size=(3, 3), strides=(1, 1), activation=activation_func, padding='same'))\n",
    "\n",
    "    # #Instantiating Layer 4\n",
    "    model.add(Conv2D(192, kernel_size=(3, 3), strides=(1, 1), activation=activation_func, padding='same'))\n",
    "    model.add(MaxPool2D(pool_size=(2, 2), strides=(2, 2)))\n",
    "\n",
    "    # #Instantiating Layer 5\n",
    "    model.add(Conv2D(256, kernel_size=(3, 3), strides=(1, 1), activation=activation_func, padding='same'))\n",
    "    model.add(MaxPool2D(pool_size=(2, 2), strides=(2, 2)))\n",
    "\n",
    "    model.add(Flatten())\n",
    "\n",
    "    #Instantiating Layer 6\n",
    "    model.add(Dense(512, activation=activation_func)) \n",
    "    model.add(Dropout(0.4)) #Prevent Overfitting\n",
    "\n",
    "    # #Instantiating Layer 8\n",
    "    model.add(Dense(256, activation=activation_func))\n",
    "    model.add(Dropout(0.4)) #Prevent Overfitting\n",
    "\n",
    "    #Output Layer\n",
    "    model.add(Dense(10, activation='softmax'))\n",
    "    return model"
   ]
  },
  {
   "cell_type": "code",
   "execution_count": 7,
   "metadata": {
    "collapsed": true
   },
   "outputs": [],
   "source": [
    "def diff_optimizer(curr_optimizer, activation_func, label=None, curr_epochs=25):\n",
    "    model = model_extractor(activation_func)\n",
    "    model.compile(loss=\"categorical_crossentropy\", optimizer=curr_optimizer, validation_data=(x_val, y_val),\n",
    "                  metrics=[\"accuracy\", \"mae\", \"mse\"])\n",
    "    history = model.fit(x_train, y_train, epochs=curr_epochs, batch_size=1024).history\n",
    "    score = model.evaluate(x_test, y_test, batch_size=128)   \n",
    "    \n",
    "    #Saving the model\n",
    "    if label == 'RAdam':\n",
    "        model.save(\"../saved_models/{}_{}_{}.hdf5\".format('RAdam', activation_func, \"AlexNet\"))\n",
    "    else: \n",
    "        model.save(\"../saved_models/{}_{}_{}.hdf5\".format(curr_optimizer, activation_func, \"AlexNet\"))\n",
    "    return score, history"
   ]
  },
  {
   "cell_type": "code",
   "execution_count": null,
   "metadata": {},
   "outputs": [
    {
     "name": "stdout",
     "output_type": "stream",
     "text": [
      "Epoch 1/25\n",
      "10000/10000 [==============================] - 24s 2ms/step - loss: 2.3019 - acc: 0.1023 - mean_absolute_error: 0.1800 - mean_squared_error: 0.0900\n",
      "Epoch 2/25\n",
      "10000/10000 [==============================] - 25s 3ms/step - loss: 2.3000 - acc: 0.1077 - mean_absolute_error: 0.1799 - mean_squared_error: 0.0899\n",
      "Epoch 3/25\n",
      "10000/10000 [==============================] - 28s 3ms/step - loss: 2.2959 - acc: 0.1190 - mean_absolute_error: 0.1798 - mean_squared_error: 0.0899\n",
      "Epoch 4/25\n",
      "10000/10000 [==============================] - 25s 2ms/step - loss: 2.2877 - acc: 0.1298 - mean_absolute_error: 0.1796 - mean_squared_error: 0.0897\n",
      "Epoch 5/25\n",
      "10000/10000 [==============================] - 22s 2ms/step - loss: 2.2687 - acc: 0.1431 - mean_absolute_error: 0.1792 - mean_squared_error: 0.0893\n",
      "Epoch 6/25\n",
      "10000/10000 [==============================] - 23s 2ms/step - loss: 2.2193 - acc: 0.1655 - mean_absolute_error: 0.1777 - mean_squared_error: 0.0882\n",
      "Epoch 7/25\n",
      "10000/10000 [==============================] - 22s 2ms/step - loss: 2.1343 - acc: 0.2008 - mean_absolute_error: 0.1742 - mean_squared_error: 0.0865\n",
      "Epoch 8/25\n",
      "10000/10000 [==============================] - 26s 3ms/step - loss: 2.0728 - acc: 0.2174 - mean_absolute_error: 0.1708 - mean_squared_error: 0.0855\n",
      "Epoch 9/25\n",
      "10000/10000 [==============================] - 23s 2ms/step - loss: 2.0207 - acc: 0.2390 - mean_absolute_error: 0.1688 - mean_squared_error: 0.0842\n",
      "Epoch 10/25\n",
      "10000/10000 [==============================] - 100s 10ms/step - loss: 1.9657 - acc: 0.2590 - mean_absolute_error: 0.1665 - mean_squared_error: 0.0830\n",
      "Epoch 11/25\n",
      "10000/10000 [==============================] - 23s 2ms/step - loss: 1.9212 - acc: 0.2803 - mean_absolute_error: 0.1640 - mean_squared_error: 0.0819\n",
      "Epoch 12/25\n",
      "10000/10000 [==============================] - 77s 8ms/step - loss: 1.8827 - acc: 0.2885 - mean_absolute_error: 0.1625 - mean_squared_error: 0.0811\n",
      "Epoch 13/25\n",
      "10000/10000 [==============================] - 145s 14ms/step - loss: 1.8459 - acc: 0.3110 - mean_absolute_error: 0.1601 - mean_squared_error: 0.0799\n",
      "Epoch 14/25\n",
      "10000/10000 [==============================] - 70s 7ms/step - loss: 1.8198 - acc: 0.3199 - mean_absolute_error: 0.1589 - mean_squared_error: 0.0791\n",
      "Epoch 15/25\n",
      "10000/10000 [==============================] - 62s 6ms/step - loss: 1.7999 - acc: 0.3313 - mean_absolute_error: 0.1569 - mean_squared_error: 0.0784\n",
      "Epoch 16/25\n",
      " 3072/10000 [========>.....................] - ETA: 1:45 - loss: 1.7913 - acc: 0.3441 - mean_absolute_error: 0.1569 - mean_squared_error: 0.0780"
     ]
    }
   ],
   "source": [
    "testing_optimizers = ['RAdam', 'Adam', 'NAdam', 'SGD']\n",
    "testing_activations = ['tanh', 'relu']\n",
    "loss, accuracy, mae, mse = {}, {}, {}, {}\n",
    "train_loss_dict, train_accuracy_dict, train_mae_dict, train_mse_dict = {}, {}, {}, {}\n",
    "\n",
    "for optimizer in testing_optimizers:\n",
    "    for activation in testing_activations:\n",
    "        \n",
    "        if optimizer == 'RAdam' and activation == 'tanh': continue #temporary\n",
    "        \n",
    "        if optimizer == 'RAdam':\n",
    "            score_returned, history = diff_optimizer(RAdam(lr=0.0005), activation, label='RAdam')\n",
    "        else:\n",
    "            score_returned, history = diff_optimizer(optimizer, activation)\n",
    "        \n",
    "        #Test Side Stats\n",
    "        loss[(optimizer, activation)] = score_returned[0]\n",
    "        accuracy[(optimizer, activation)] = score_returned[1]\n",
    "        mae[(optimizer, activation)] = score_returned[2]\n",
    "        mse[(optimizer, activation)] = score_returned[3]\n",
    "        \n",
    "        #Training Side Stats\n",
    "        train_loss_dict[(optimizer, activation)] = history.get('loss')\n",
    "        train_accuracy_dict[(optimizer, activation)] = history.get('acc')\n",
    "        train_mae_dict[(optimizer, activation)] = history.get('mean_absolute_error')\n",
    "        train_mse_dict[(optimizer, activation)] = history.get('mean_squared_error')\n",
    "        \n",
    "        bg = (loss, accuracy, mae, mse, train_loss_dict, train_accuracy_dict, train_mae_dict, train_mse_dict)\n",
    "        #Delete Existing Primary Keys and then write to DB\n",
    "        deleteExistingPrimaryKeyDB(optimizer, activation, 'AlexNet', 'milestone-experiments', 'benchmark_testing')\n",
    "        writeToDB(optimizer, activation, 'AlexNet', bg, 'milestone-experiments', 'benchmark_testing')"
   ]
  },
  {
   "cell_type": "code",
   "execution_count": null,
   "metadata": {},
   "outputs": [],
   "source": [
    "loss"
   ]
  },
  {
   "cell_type": "code",
   "execution_count": null,
   "metadata": {},
   "outputs": [],
   "source": [
    "accuracy"
   ]
  },
  {
   "cell_type": "code",
   "execution_count": null,
   "metadata": {},
   "outputs": [],
   "source": [
    "mae"
   ]
  },
  {
   "cell_type": "code",
   "execution_count": null,
   "metadata": {},
   "outputs": [],
   "source": [
    "mse"
   ]
  },
  {
   "cell_type": "code",
   "execution_count": null,
   "metadata": {},
   "outputs": [],
   "source": [
    "train_loss_dict"
   ]
  },
  {
   "cell_type": "code",
   "execution_count": null,
   "metadata": {},
   "outputs": [],
   "source": [
    "train_accuracy_dict"
   ]
  },
  {
   "cell_type": "code",
   "execution_count": null,
   "metadata": {},
   "outputs": [],
   "source": [
    "train_mae_dict"
   ]
  },
  {
   "cell_type": "code",
   "execution_count": null,
   "metadata": {},
   "outputs": [],
   "source": [
    "train_mse_dict"
   ]
  }
 ],
 "metadata": {
  "anaconda-cloud": {},
  "kernelspec": {
   "display_name": "Python 3",
   "language": "python",
   "name": "python3"
  },
  "language_info": {
   "codemirror_mode": {
    "name": "ipython",
    "version": 3
   },
   "file_extension": ".py",
   "mimetype": "text/x-python",
   "name": "python",
   "nbconvert_exporter": "python",
   "pygments_lexer": "ipython3",
   "version": "3.6.9"
  }
 },
 "nbformat": 4,
 "nbformat_minor": 1
}
