{
 "cells": [
  {
   "cell_type": "code",
   "execution_count": 1,
   "metadata": {},
   "outputs": [
    {
     "name": "stderr",
     "output_type": "stream",
     "text": [
      "Using TensorFlow backend.\n"
     ]
    }
   ],
   "source": [
    "import tensorflow as tf\n",
    "from tensorflow.keras.models import Sequential\n",
    "from tensorflow.keras.layers import Dense, Dropout, Conv2D, Conv3D, Flatten, MaxPool2D\n",
    "from tensorflow.keras.optimizers import SGD\n",
    "from tensorflow.keras.utils import to_categorical\n",
    "from tensorflow.keras.callbacks import CSVLogger\n",
    "from tensorflow.python.keras import metrics\n",
    "import matplotlib.pyplot as plt\n",
    "from utilities.rectified_adam import RAdam\n",
    "import numpy as np\n",
    "import sys\n",
    "from utilities.pythonDB import writeToDB, deleteExistingPrimaryKeyDB, recordsExists\n",
    "%matplotlib inline"
   ]
  },
  {
   "cell_type": "code",
   "execution_count": 2,
   "metadata": {},
   "outputs": [],
   "source": [
    "def get_random_data(data1, data2, low, high, max_samples=100):\n",
    "    _, H1, W1, C1 = data1.shape\n",
    "    _, N = data2.shape\n",
    "    suff_data1 = np.zeros((max_samples, H1, W1, C1))\n",
    "    suff_data2 = np.zeros((max_samples, N))\n",
    "    shuffles = np.random.randint(low, high+1, max_samples)\n",
    "    for idx in range(shuffles.shape[0]):\n",
    "        suff_data1[idx] = data1[idx, :, :, :]\n",
    "        suff_data2[idx] = data2[idx, :]\n",
    "    return suff_data1, suff_data2"
   ]
  },
  {
   "cell_type": "code",
   "execution_count": 10,
   "metadata": {},
   "outputs": [],
   "source": [
    "MAX_TRAINING = 100#10000\n",
    "MAX_VALIDATION = 20#2000\n",
    "MAX_TESTING = 20 #2000\n",
    "correct_class = {1 : 'airplane', 2 : 'automobile', 3 : 'bird', 4 : 'cat', 5 : \\\n",
    "                 'deer', 6 : 'dog', 7 : 'frog', 8 : 'horse', 9 : 'ship', 10 : 'truck'}\n",
    "\n",
    "MAX_EPOCHS, MAX_BATCH_SIZE = 5, 512\n",
    "architecture = 'AlexNet'\n",
    "label, keywords = 'milestone-experiments2', 'benchmark_testing'"
   ]
  },
  {
   "cell_type": "code",
   "execution_count": 4,
   "metadata": {},
   "outputs": [
    {
     "name": "stdout",
     "output_type": "stream",
     "text": [
      "Number of Training Samples: X=100, Y=100\n",
      "Number of Validation Samples: X=20, Y=20\n",
      "Number of Test Samples: X=20, Y=20\n"
     ]
    }
   ],
   "source": [
    "#Loading CIFAR-10 dataset\n",
    "cifar = tf.keras.datasets.cifar10 \n",
    "(x_train, y_train), (x_test, y_test) = cifar.load_data()\n",
    "\n",
    "# Keeping the data between 0 and 1\n",
    "x_train_max, x_test_max = x_train / 255.0, x_test / 255.0\n",
    "y_train_max = to_categorical(y_train, num_classes=10)\n",
    "y_test_max = to_categorical(y_test, num_classes=10)\n",
    "\n",
    "x_train, y_train = get_random_data(x_train_max, y_train_max, 0, MAX_TRAINING*3, MAX_TRAINING)\n",
    "x_val, y_val = get_random_data(x_train_max, y_train_max, MAX_TRAINING*3+1, x_train_max.shape[0], MAX_VALIDATION)\n",
    "x_test, y_test = get_random_data(x_test_max, y_test_max, 0, x_test_max.shape[0], MAX_TESTING)\n",
    "\n",
    "print (\"Number of Training Samples: X={}, Y={}\".format(x_train.shape[0], y_train.shape[0]))\n",
    "print (\"Number of Validation Samples: X={}, Y={}\".format(x_val.shape[0], y_val.shape[0]))\n",
    "print (\"Number of Test Samples: X={}, Y={}\".format(x_test.shape[0], y_test.shape[0]))"
   ]
  },
  {
   "cell_type": "code",
   "execution_count": 5,
   "metadata": {},
   "outputs": [],
   "source": [
    "class MetricsAfterEachEpoch(tf.keras.callbacks.Callback):\n",
    "    def on_train_begin(self, scores={}):\n",
    "        self.loss, self.accuracy, self.mae, self.mse = [], [], [], []\n",
    "    def on_train_end(self, logs={}):\n",
    "        return self.loss, self.accuracy, self.mae, self.loss\n",
    "    def on_epoch_end(self, epoch, scores):\n",
    "        self.loss.append(scores.get('loss'))\n",
    "        self.accuracy.append(scores.get('acc'))\n",
    "        self.mae.append(scores.get('mean_absolute_error'))\n",
    "        self.loss.append(scores.get('mean_squared_error'))\n",
    "        return"
   ]
  },
  {
   "cell_type": "code",
   "execution_count": 6,
   "metadata": {},
   "outputs": [],
   "source": [
    "def model_extractor(activation_func):\n",
    "    # Creating an AlexNet Classifier\n",
    "    model = Sequential()\n",
    "\n",
    "    #Instantiating Layer 1\n",
    "    model.add(Conv2D(48, kernel_size=(3, 3), strides=(1, 1), activation=activation_func, padding='valid'))\n",
    "    model.add(MaxPool2D(pool_size=(2, 2), strides=(2, 2)))\n",
    "\n",
    "    # #Instantiating Layer 2\n",
    "    model.add(Conv2D(96, kernel_size=(3, 3), strides=(1, 1), activation=activation_func, padding='same'))\n",
    "    model.add(MaxPool2D(pool_size=(3, 3), strides=(2, 2)))\n",
    "\n",
    "    # #Instantiating Layer 3\n",
    "    model.add(Conv2D(192, kernel_size=(3, 3), strides=(1, 1), activation=activation_func, padding='same'))\n",
    "\n",
    "    # #Instantiating Layer 4\n",
    "    model.add(Conv2D(192, kernel_size=(3, 3), strides=(1, 1), activation=activation_func, padding='same'))\n",
    "    model.add(MaxPool2D(pool_size=(2, 2), strides=(2, 2)))\n",
    "\n",
    "    # #Instantiating Layer 5\n",
    "    model.add(Conv2D(256, kernel_size=(3, 3), strides=(1, 1), activation=activation_func, padding='same'))\n",
    "    model.add(MaxPool2D(pool_size=(2, 2), strides=(2, 2)))\n",
    "\n",
    "    model.add(Flatten())\n",
    "\n",
    "    #Instantiating Layer 6\n",
    "    model.add(Dense(512, activation=activation_func)) \n",
    "    model.add(Dropout(0.4)) #Prevent Overfitting\n",
    "\n",
    "    # #Instantiating Layer 8\n",
    "    model.add(Dense(256, activation=activation_func))\n",
    "    model.add(Dropout(0.4)) #Prevent Overfitting\n",
    "\n",
    "    #Output Layer\n",
    "    model.add(Dense(10, activation='softmax'))\n",
    "    return model"
   ]
  },
  {
   "cell_type": "code",
   "execution_count": 7,
   "metadata": {},
   "outputs": [],
   "source": [
    "def diff_optimizer(curr_optimizer, activation_func, label=None, curr_epochs=MAX_EPOCHS):\n",
    "    model = model_extractor(activation_func)\n",
    "    model.compile(loss=\"categorical_crossentropy\", optimizer=curr_optimizer, validation_data=(x_val, y_val),\n",
    "                  metrics=[\"accuracy\", \"mae\", \"mse\"])\n",
    "    history = model.fit(x_train, y_train, epochs=curr_epochs, batch_size=1024).history\n",
    "    score = model.evaluate(x_test, y_test, batch_size=MAX_BATCH_SIZE)   \n",
    "    \n",
    "    #Saving the model\n",
    "    if label == 'RAdam':\n",
    "        model.save(\"../../saved_models/{}_{}_{}.hdf5\".format('RAdam', activation_func, architecture))\n",
    "    else: \n",
    "        model.save(\"../../saved_models/{}_{}_{}.hdf5\".format(curr_optimizer, activation_func, architecture))\n",
    "    return score, history"
   ]
  },
  {
   "cell_type": "code",
   "execution_count": 9,
   "metadata": {},
   "outputs": [
    {
     "name": "stdout",
     "output_type": "stream",
     "text": [
      "Activation Fnc = tanh\n",
      "Train on 100 samples\n",
      "Epoch 1/5\n",
      "100/100 [==============================] - 1s 15ms/sample - loss: 2.3625 - accuracy: 0.0600 - mae: 0.1807 - mse: 0.0913\n",
      "Epoch 2/5\n",
      "100/100 [==============================] - 0s 2ms/sample - loss: 2.3369 - accuracy: 0.0800 - mae: 0.1769 - mse: 0.0913\n",
      "Epoch 3/5\n",
      "100/100 [==============================] - 0s 2ms/sample - loss: 2.2535 - accuracy: 0.1700 - mae: 0.1771 - mse: 0.0885\n",
      "Epoch 4/5\n",
      "100/100 [==============================] - 0s 2ms/sample - loss: 2.2080 - accuracy: 0.1200 - mae: 0.1771 - mse: 0.0883\n",
      "Epoch 5/5\n",
      "100/100 [==============================] - 0s 2ms/sample - loss: 2.2115 - accuracy: 0.1600 - mae: 0.1743 - mse: 0.0887\n",
      "20/1 [========================================================================================================================================================================================================================================================================================================================================================================================================================================================================================================================================================================================================================] - 0s 16ms/sample - loss: 2.4149 - accuracy: 0.0000e+00 - mae: 0.1809 - mse: 0.0926\n",
      "Successfully deleted the existing primary key...\n",
      "Successfully written to the database...\n",
      "Activation Fnc = relu\n",
      "Train on 100 samples\n",
      "Epoch 1/5\n",
      "100/100 [==============================] - 1s 14ms/sample - loss: 2.3045 - accuracy: 0.1500 - mae: 0.1800 - mse: 0.0900\n",
      "Epoch 2/5\n",
      "100/100 [==============================] - 0s 1ms/sample - loss: 2.2978 - accuracy: 0.1500 - mae: 0.1798 - mse: 0.0899\n",
      "Epoch 3/5\n",
      "100/100 [==============================] - 0s 945us/sample - loss: 2.2704 - accuracy: 0.1700 - mae: 0.1789 - mse: 0.0893\n",
      "Epoch 4/5\n",
      "100/100 [==============================] - 0s 914us/sample - loss: 2.2260 - accuracy: 0.1800 - mae: 0.1764 - mse: 0.0886\n",
      "Epoch 5/5\n",
      "100/100 [==============================] - 0s 995us/sample - loss: 2.2635 - accuracy: 0.1700 - mae: 0.1762 - mse: 0.0891\n",
      "20/1 [========================================================================================================================================================================================================================================================================================================================================================================================================================================================================================================================================================================================================================] - 0s 18ms/sample - loss: 2.4799 - accuracy: 0.1000 - mae: 0.1819 - mse: 0.0930\n",
      "Successfully deleted the existing primary key...\n",
      "Successfully written to the database...\n",
      "Activation Fnc = selu\n",
      "Train on 100 samples\n",
      "Epoch 1/5\n",
      "100/100 [==============================] - 2s 21ms/sample - loss: 2.4750 - accuracy: 0.0900 - mae: 0.1781 - mse: 0.0943\n",
      "Epoch 2/5\n",
      "100/100 [==============================] - 0s 3ms/sample - loss: 3.7493 - accuracy: 0.1300 - mae: 0.1726 - mse: 0.1127\n",
      "Epoch 3/5\n",
      "100/100 [==============================] - 0s 2ms/sample - loss: 3.9281 - accuracy: 0.1500 - mae: 0.1742 - mse: 0.1092\n",
      "Epoch 4/5\n",
      "100/100 [==============================] - 0s 2ms/sample - loss: 3.8682 - accuracy: 0.1600 - mae: 0.1710 - mse: 0.1179\n",
      "Epoch 5/5\n",
      "100/100 [==============================] - 0s 2ms/sample - loss: 3.0843 - accuracy: 0.1500 - mae: 0.1749 - mse: 0.1029\n",
      "20/1 [========================================================================================================================================================================================================================================================================================================================================================================================================================================================================================================================================================================================================================] - 1s 28ms/sample - loss: 3.5437 - accuracy: 0.1000 - mae: 0.1789 - mse: 0.1173\n",
      "Successfully deleted the existing primary key...\n",
      "Successfully written to the database...\n"
     ]
    }
   ],
   "source": [
    "testing_optimizers = ['Adam'] #['RAdam', 'Adam', 'NAdam', 'SGD']\n",
    "testing_activations = ['tanh', 'relu', 'selu']\n",
    "\n",
    "\n",
    "for optimizer in testing_optimizers:\n",
    "    for activation in testing_activations:\n",
    "        loss, accuracy, mae, mse = {}, {}, {}, {}\n",
    "        train_loss_dict, train_accuracy_dict, train_mae_dict, train_mse_dict = {}, {}, {}, {}\n",
    "        \n",
    "        #print (\"Activation Fnc1 = {}\".format(activation))\n",
    "        \n",
    "        \n",
    "        if optimizer == 'RAdam':\n",
    "            score_returned, history = diff_optimizer(RAdam(lr=0.005), activation, label='RAdam')\n",
    "        else:\n",
    "            score_returned, history = diff_optimizer(optimizer, activation)\n",
    "            \n",
    "        bg = (score_returned[0], score_returned[1], score_returned[2], score_returned[3], history.get('loss'),\\\n",
    "              history.get('accuracy'), history.get('mae'), history.get('mae'))\n",
    "        \n",
    "        #Delete Existing Primary Keys and then write to DB\n",
    "        deleteExistingPrimaryKeyDB(optimizer, activation, architecture, label, keywords)\n",
    "        writeToDB(optimizer, activation, architecture, bg, label, keywords)"
   ]
  }
 ],
 "metadata": {
  "anaconda-cloud": {},
  "kernelspec": {
   "display_name": "cs682",
   "language": "python",
   "name": "cs682"
  },
  "language_info": {
   "codemirror_mode": {
    "name": "ipython",
    "version": 3
   },
   "file_extension": ".py",
   "mimetype": "text/x-python",
   "name": "python",
   "nbconvert_exporter": "python",
   "pygments_lexer": "ipython3",
   "version": "3.6.9"
  }
 },
 "nbformat": 4,
 "nbformat_minor": 1
}
