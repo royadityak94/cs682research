{
 "cells": [
  {
   "cell_type": "code",
   "execution_count": 7,
   "metadata": {},
   "outputs": [],
   "source": [
    "import tensorflow as tf\n",
    "from tensorflow.keras.models import Sequential\n",
    "from tensorflow.keras.layers import Dense, Dropout, Conv2D, Conv3D, Flatten, MaxPool2D, AveragePooling2D\n",
    "from tensorflow.keras.optimizers import SGD\n",
    "from tensorflow.keras.utils import to_categorical\n",
    "from tensorflow.keras.callbacks import CSVLogger\n",
    "from tensorflow.python.keras import metrics\n",
    "import matplotlib.pyplot as plt\n",
    "from utilities.rectified_adam import RAdam\n",
    "import numpy as np\n",
    "import sys\n",
    "from utilities.pythonDB import writeToDB, deleteExistingPrimaryKeyDB\n",
    "from utilities.data_preprocessors import get_random_data, MetricsAfterEachEpoch"
   ]
  },
  {
   "cell_type": "code",
   "execution_count": 8,
   "metadata": {},
   "outputs": [],
   "source": [
    "global MAX_EPOCHS, MAX_BATCH_SIZE, architecture, label, keywords\n",
    "MAX_EPOCHS, MAX_BATCH_SIZE = 15, 1024\n",
    "architecture = 'LeNet5'\n",
    "label, keywords = 'noisy_bl-experiments_test', 'benchmark_testing_test'"
   ]
  },
  {
   "cell_type": "code",
   "execution_count": 9,
   "metadata": {},
   "outputs": [],
   "source": [
    "def model_extractor(activation_func):\n",
    "    # Creating a LeNet5 Classifier\n",
    "    model = Sequential()\n",
    "\n",
    "    #Instantiating Layer 1\n",
    "    model.add(Conv2D(6, kernel_size=(5, 5), strides=(1, 1), activation=activation_func, padding='valid'))\n",
    "    model.add(AveragePooling2D(pool_size=(2, 2), strides=(2, 2), name='pool1'))\n",
    "\n",
    "    # #Instantiating Layer 2\n",
    "    model.add(Conv2D(16, kernel_size=(5, 5), strides=(1, 1), activation=activation_func, padding='valid'))\n",
    "    model.add(MaxPool2D(pool_size=(2, 2), strides=(2, 2), name='pool2'))\n",
    "\n",
    "    # #Instantiating Layer 3\n",
    "    model.add(Conv2D(120, kernel_size=(5, 5), strides=(1, 1), activation=activation_func, padding='valid'))\n",
    "\n",
    "    model.add(Flatten())\n",
    "\n",
    "    #Instantiating Layer 4\n",
    "    model.add(Dense(84, activation=activation_func)) \n",
    "\n",
    "    #Output Layer\n",
    "    model.add(Dense(10, activation='softmax'))\n",
    "    return model"
   ]
  },
  {
   "cell_type": "code",
   "execution_count": 10,
   "metadata": {},
   "outputs": [],
   "source": [
    "def diff_optimizer(curr_optimizer, activation_func, label=None, curr_epochs=MAX_EPOCHS):\n",
    "    model = model_extractor(activation_func)\n",
    "    model.compile(loss=\"categorical_crossentropy\", optimizer=curr_optimizer, validation_data=(x_val, y_val),\n",
    "                  metrics=[\"accuracy\", \"mae\", \"mse\"])\n",
    "    history = model.fit(x_train, y_train, epochs=curr_epochs, batch_size=1024).history\n",
    "    score = model.evaluate(x_test, y_test, batch_size=MAX_BATCH_SIZE)\n",
    "    \n",
    "    #Saving the model\n",
    "    if label == 'RAdam':\n",
    "        model.save(\"../../saved_models_noisy/{}_{}_{}.hdf5\".format('RAdam', activation_func, architecture))\n",
    "    else: \n",
    "        model.save(\"../../saved_models_noisy/{}_{}_{}.hdf5\".format(curr_optimizer, activation_func, architecture))\n",
    "    return score, history"
   ]
  },
  {
   "cell_type": "code",
   "execution_count": 11,
   "metadata": {},
   "outputs": [
    {
     "name": "stdout",
     "output_type": "stream",
     "text": [
      "Number of Training Samples: X=1000, Y=1000\n",
      "Number of Validation Samples: X=100, Y=100\n",
      "Number of Test Samples: X=100, Y=100\n"
     ]
    }
   ],
   "source": [
    "MAX_TRAINING = 1000\n",
    "MAX_VALIDATION = 100\n",
    "MAX_TESTING = 100\n",
    "\n",
    "base = 'noisy_dataset/noisy/cifar_10_{}.npy'\n",
    "x_train_max, y_train = np.load(base.format('x_train')), np.load(base.format('y_train'))\n",
    "x_test_max, y_test = np.load(base.format('x_test')), np.load(base.format('y_test'))\n",
    "y_train_max, y_test_max = to_categorical(y_train, num_classes=10), to_categorical(y_test, num_classes=10)\n",
    "\n",
    "train_cutoff = int(x_train_max.shape[0] - MAX_VALIDATION*4)\n",
    "\n",
    "x_train, y_train = get_random_data(x_train_max, y_train_max, 0, train_cutoff, MAX_TRAINING)\n",
    "x_val, y_val = get_random_data(x_train_max, y_train_max, train_cutoff+1, x_train_max.shape[0], MAX_VALIDATION)\n",
    "x_test, y_test = get_random_data(x_test_max, y_test_max, 0, x_test_max.shape[0], MAX_TESTING)\n",
    "\n",
    "print (\"Number of Training Samples: X={}, Y={}\".format(x_train.shape[0], y_train.shape[0]))\n",
    "print (\"Number of Validation Samples: X={}, Y={}\".format(x_val.shape[0], y_val.shape[0]))\n",
    "print (\"Number of Test Samples: X={}, Y={}\".format(x_test.shape[0], y_test.shape[0]))"
   ]
  },
  {
   "cell_type": "code",
   "execution_count": 12,
   "metadata": {},
   "outputs": [
    {
     "name": "stdout",
     "output_type": "stream",
     "text": [
      "Train on 1000 samples\n",
      "Epoch 1/15\n",
      "1000/1000 [==============================] - 1s 953us/sample - loss: 2.3024 - accuracy: 0.2010 - mae: 0.1800 - mse: 0.0900\n",
      "Epoch 2/15\n",
      "1000/1000 [==============================] - 0s 211us/sample - loss: 2.2622 - accuracy: 0.2140 - mae: 0.1791 - mse: 0.0892\n",
      "Epoch 3/15\n",
      "1000/1000 [==============================] - 0s 193us/sample - loss: 2.2198 - accuracy: 0.2140 - mae: 0.1782 - mse: 0.0884\n",
      "Epoch 4/15\n",
      "1000/1000 [==============================] - 0s 189us/sample - loss: 2.1638 - accuracy: 0.2140 - mae: 0.1769 - mse: 0.0873\n",
      "Epoch 5/15\n",
      "1000/1000 [==============================] - 0s 228us/sample - loss: 2.0914 - accuracy: 0.2140 - mae: 0.1750 - mse: 0.0860\n",
      "Epoch 6/15\n",
      "1000/1000 [==============================] - 0s 210us/sample - loss: 2.0034 - accuracy: 0.2140 - mae: 0.1725 - mse: 0.0845\n",
      "Epoch 7/15\n",
      "1000/1000 [==============================] - 0s 197us/sample - loss: 1.9038 - accuracy: 0.2140 - mae: 0.1693 - mse: 0.0830\n",
      "Epoch 8/15\n",
      "1000/1000 [==============================] - 0s 170us/sample - loss: 1.8037 - accuracy: 0.2140 - mae: 0.1658 - mse: 0.0818\n",
      "Epoch 9/15\n",
      "1000/1000 [==============================] - 0s 199us/sample - loss: 1.7190 - accuracy: 0.2150 - mae: 0.1629 - mse: 0.0809\n",
      "Epoch 10/15\n",
      "1000/1000 [==============================] - 0s 152us/sample - loss: 1.6620 - accuracy: 0.2040 - mae: 0.1611 - mse: 0.0804\n",
      "Epoch 11/15\n",
      "1000/1000 [==============================] - 0s 189us/sample - loss: 1.6255 - accuracy: 0.2000 - mae: 0.1601 - mse: 0.0800\n",
      "Epoch 12/15\n",
      "1000/1000 [==============================] - 0s 176us/sample - loss: 1.6111 - accuracy: 0.2260 - mae: 0.1599 - mse: 0.0799\n",
      "Epoch 13/15\n",
      "1000/1000 [==============================] - 0s 198us/sample - loss: 1.6212 - accuracy: 0.2090 - mae: 0.1596 - mse: 0.0804\n",
      "Epoch 14/15\n",
      "1000/1000 [==============================] - 0s 216us/sample - loss: 1.6067 - accuracy: 0.2540 - mae: 0.1593 - mse: 0.0798\n",
      "Epoch 15/15\n",
      "1000/1000 [==============================] - 0s 163us/sample - loss: 1.5945 - accuracy: 0.2410 - mae: 0.1588 - mse: 0.0794\n",
      "100/1 [========================================================================================================================================================================================================================================================================================================================================================================================================================================================================================================================================================================================================================================================================================================================================================================================================================================================================================================================================================================================================================================================================================================================================================================================================================================================================================================================================================================================================================================================================================================================================================================================================================================================================================================================================================================================================================================================================================================================================================================================================================================================================================================================================================================================================================================================================================================================================================================================================================================================================================================================================================================================================================================================================================================================================================================================================================================================================================================================================================================================================================================================================================================================] - 0s 3ms/sample - loss: 1.5907 - accuracy: 0.3300 - mae: 0.1573 - mse: 0.0789\n",
      "Successfully deleted the existing primary key...\n",
      "Successfully written to the database...\n",
      "Completed Execution for architecture=LeNet5\n"
     ]
    }
   ],
   "source": [
    "testing_optimizers = ['Adam'] #['RAdam', 'Adam', 'NAdam', 'SGD']\n",
    "testing_activations = ['relu'] #['tanh', 'relu', 'selu']\n",
    "\n",
    "for optimizer in testing_optimizers:\n",
    "    for activation in testing_activations:\n",
    "        loss, accuracy, mae, mse = {}, {}, {}, {}\n",
    "        train_loss_dict, train_accuracy_dict, train_mae_dict, train_mse_dict = {}, {}, {}, {}\n",
    "\n",
    "        if optimizer == 'RAdam':\n",
    "            score_returned, history = diff_optimizer(RAdam(lr=0.005), activation, label='RAdam')\n",
    "        else:\n",
    "            score_returned, history = diff_optimizer(optimizer, activation)\n",
    "\n",
    "\n",
    "        bg = (score_returned[0], score_returned[1], score_returned[2], score_returned[3], history.get('loss'),\\\n",
    "          history.get('accuracy'), history.get('mae'), history.get('mae'))\n",
    "\n",
    "        #Delete Existing Primary Keys and then write to DB\n",
    "        deleteExistingPrimaryKeyDB(optimizer, activation, architecture, label, keywords)\n",
    "        writeToDB(optimizer, activation, architecture, bg, label, keywords)\n",
    "\n",
    "print (\"Completed Execution for architecture={}\".format(architecture))"
   ]
  },
  {
   "cell_type": "code",
   "execution_count": null,
   "metadata": {},
   "outputs": [],
   "source": []
  },
  {
   "cell_type": "code",
   "execution_count": null,
   "metadata": {},
   "outputs": [],
   "source": []
  }
 ],
 "metadata": {
  "kernelspec": {
   "display_name": "cs682",
   "language": "python",
   "name": "cs682"
  },
  "language_info": {
   "codemirror_mode": {
    "name": "ipython",
    "version": 3
   },
   "file_extension": ".py",
   "mimetype": "text/x-python",
   "name": "python",
   "nbconvert_exporter": "python",
   "pygments_lexer": "ipython3",
   "version": "3.6.9"
  }
 },
 "nbformat": 4,
 "nbformat_minor": 2
}
