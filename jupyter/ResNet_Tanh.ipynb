{
 "cells": [
  {
   "cell_type": "code",
   "execution_count": 6,
   "metadata": {},
   "outputs": [],
   "source": [
    "import tensorflow as tf\n",
    "from tensorflow.keras.models import Sequential\n",
    "from tensorflow.keras.layers import Dense, Dropout, Conv2D, Conv3D, Flatten, MaxPool2D, AveragePooling2D\n",
    "from tensorflow.keras.optimizers import SGD\n",
    "from tensorflow.keras.utils import to_categorical\n",
    "from tensorflow.keras.callbacks import CSVLogger\n",
    "from tensorflow.python.keras import metrics\n",
    "import matplotlib.pyplot as plt\n",
    "from rectified_adam import RAdam\n",
    "import numpy as np\n",
    "import sys\n",
    "from utilities.pythonDB import writeToDB, deleteExistingPrimaryKeyDB\n",
    "from resnet import ResNet18, ResNet34\n",
    "%matplotlib inline"
   ]
  },
  {
   "cell_type": "code",
   "execution_count": 3,
   "metadata": {},
   "outputs": [
    {
     "name": "stdout",
     "output_type": "stream",
     "text": [
      "Number of Training Samples: X=500, Y=500\n",
      "Number of Validation Samples: X=50, Y=50\n",
      "Number of Test Samples: X=50, Y=50\n"
     ]
    }
   ],
   "source": [
    "def get_random_data(data1, data2, low, high, max_samples=100):\n",
    "    _, H1, W1, C1 = data1.shape\n",
    "    _, N = data2.shape\n",
    "    suff_data1 = np.zeros((max_samples, H1, W1, C1))\n",
    "    suff_data2 = np.zeros((max_samples, N))\n",
    "    shuffles = np.random.randint(low, high+1, max_samples)\n",
    "    for idx in range(shuffles.shape[0]):\n",
    "        suff_data1[idx] = data1[idx, :, :, :]\n",
    "        suff_data2[idx] = data2[idx, :]\n",
    "    return suff_data1, suff_data2\n",
    "\n",
    "MAX_TRAINING = 500\n",
    "MAX_VALIDATION = 50\n",
    "MAX_TESTING = 50\n",
    "correct_class = {1 : 'airplane', 2 : 'automobile', 3 : 'bird', 4 : 'cat', 5 : \\\n",
    "                 'deer', 6 : 'dog', 7 : 'frog', 8 : 'horse', 9 : 'ship', 10 : 'truck'}\n",
    "architecture = 'ResNet18'\n",
    "label, keywords = 'milestone-experiments', 'benchmark_testing'\n",
    "\n",
    "#Loading CIFAR-10 dataset\n",
    "cifar = tf.keras.datasets.cifar10 \n",
    "(x_train, y_train), (x_test, y_test) = cifar.load_data()\n",
    "\n",
    "x_train_max, y_train_max = get_random_data(x_train, y_train, 0, MAX_TRAINING*3, MAX_TRAINING)\n",
    "x_val_max, y_val_max = get_random_data(x_train, y_train, MAX_TRAINING*3+1, x_train.shape[0], MAX_VALIDATION)\n",
    "x_test_max, y_test_max = get_random_data(x_test, y_test, 0, x_test.shape[0], MAX_TESTING)\n",
    "\n",
    "# Keeping the data between 0 and 1 \n",
    "x_train, x_test = x_train_max / 255.0, x_test_max / 255.0\n",
    "x_val, y_val = x_val_max/255.0, y_val_max/255.0\n",
    "y_train = to_categorical(y_train_max, num_classes=10)\n",
    "y_test = to_categorical(y_test_max, num_classes=10)\n",
    "\n",
    "print (\"Number of Training Samples: X={}, Y={}\".format(x_train.shape[0], y_train.shape[0]))\n",
    "print (\"Number of Validation Samples: X={}, Y={}\".format(x_val.shape[0], y_val.shape[0]))\n",
    "print (\"Number of Test Samples: X={}, Y={}\".format(x_test.shape[0], y_test.shape[0]))"
   ]
  },
  {
   "cell_type": "code",
   "execution_count": 7,
   "metadata": {},
   "outputs": [
    {
     "name": "stdout",
     "output_type": "stream",
     "text": [
      "reshaping via a convolution...\n",
      "reshaping via a convolution...\n",
      "reshaping via a convolution...\n",
      "reshaping via a convolution...\n",
      "Train on 500 samples\n",
      "500/500 [==============================] - 295s 590ms/sample - loss: 7.5877 - accuracy: 0.0900 - mae: 0.7528 - mse: 0.7215\n",
      "50/1 [============================================================================================================================================================================================================================================================================================================================================================================================================================================================================================================================================================================================================================================================================================================================================================================================================================================================================================================================================================================================================================================================================================================================================================================================================================================================================================================================================================================================================================================================================================================================================================] - 56s 1s/sample - loss: 6.9879 - accuracy: 0.0400 - mae: 0.8630 - mse: 0.8610\n",
      "[7.700539779663086, 0.04, 0.86302704, 0.8609872]\n"
     ]
    }
   ],
   "source": [
    "img_rows, img_cols, img_channels = x_train[0].shape\n",
    "nb_classes = y_test[0].shape[0]\n",
    "\n",
    "model = ResNet18((img_rows, img_cols, img_channels), nb_classes, 'tanh') \n",
    "model.compile(loss=\"categorical_crossentropy\", optimizer='Adam', validation_data=(x_val, y_val), metrics=[\"accuracy\", \"mae\", \"mse\"])\n",
    "model.fit(x_train, y_train, epochs=1)\n",
    "score = model.evaluate(x_test, y_test)\n",
    "print (score)"
   ]
  },
  {
   "cell_type": "code",
   "execution_count": null,
   "metadata": {},
   "outputs": [
    {
     "name": "stdout",
     "output_type": "stream",
     "text": [
      "reshaping via a convolution...\n",
      "reshaping via a convolution...\n",
      "reshaping via a convolution...\n",
      "reshaping via a convolution...\n",
      "Train on 500 samples\n",
      "Epoch 1/5\n",
      "500/500 [==============================] - 116s 232ms/sample - loss: 8.9411 - accuracy: 0.1280 - mae: 0.4515 - mse: 0.5589\n",
      "Epoch 2/5\n",
      "500/500 [==============================] - 4s 8ms/sample - loss: 6.4081 - accuracy: 0.3120 - mae: 0.6244 - mse: 1.1075\n",
      "Epoch 3/5\n",
      "500/500 [==============================] - 3s 7ms/sample - loss: 5.3666 - accuracy: 0.3720 - mae: 0.7594 - mse: 1.5602\n",
      "Epoch 4/5\n",
      "500/500 [==============================] - 21s 43ms/sample - loss: 4.7967 - accuracy: 0.4080 - mae: 0.8624 - mse: 2.0132\n",
      "Epoch 5/5\n",
      "500/500 [==============================] - 79s 157ms/sample - loss: 4.5827 - accuracy: 0.4360 - mae: 0.9531 - mse: 2.5133\n"
     ]
    }
   ],
   "source": [
    "img_rows, img_cols, img_channels = x_train[0].shape\n",
    "nb_classes = y_test[0].shape[0]\n",
    "\n",
    "model = ResNet18((img_rows, img_cols, img_channels), nb_classes, 'relu') \n",
    "model.compile(loss=\"categorical_crossentropy\", optimizer='Adam', validation_data=(x_val, y_val), metrics=[\"accuracy\", \"mae\", \"mse\"])\n",
    "model.fit(x_train, y_train, epochs=5, batch_size=250)\n",
    "score = model.evaluate(x_test, y_test, batch_size=50)\n",
    "print (score)"
   ]
  },
  {
   "cell_type": "code",
   "execution_count": null,
   "metadata": {},
   "outputs": [],
   "source": []
  },
  {
   "cell_type": "code",
   "execution_count": null,
   "metadata": {},
   "outputs": [],
   "source": []
  },
  {
   "cell_type": "code",
   "execution_count": null,
   "metadata": {},
   "outputs": [],
   "source": []
  },
  {
   "cell_type": "code",
   "execution_count": null,
   "metadata": {},
   "outputs": [],
   "source": []
  }
 ],
 "metadata": {
  "kernelspec": {
   "display_name": "cs682",
   "language": "python",
   "name": "cs682"
  },
  "language_info": {
   "codemirror_mode": {
    "name": "ipython",
    "version": 3
   },
   "file_extension": ".py",
   "mimetype": "text/x-python",
   "name": "python",
   "nbconvert_exporter": "python",
   "pygments_lexer": "ipython3",
   "version": "3.6.9"
  }
 },
 "nbformat": 4,
 "nbformat_minor": 2
}
